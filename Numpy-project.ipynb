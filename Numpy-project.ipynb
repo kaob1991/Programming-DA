{
 "cells": [
  {
   "cell_type": "markdown",
   "metadata": {},
   "source": [
    "\" following assignment concerns the numpy.random package in Python [2]. You are\n",
    "required to create a Jupyter [5] notebook explaining the use of the package, including\n",
    "detailed explanations of at least five of the distributions provided for in the package.\n",
    "There are four distinct tasks to be carried out in your Jupyter notebook.\n",
    "1. Explain the overall purpose of the package.\n",
    "\n",
    "    Explained in basic what the package is used for \n",
    "    \n",
    "    \n",
    "2. Explain the use of the “Simple random data” and “Permutations” functions.\n",
    "    Permutations done\n",
    "\n",
    "\n",
    "3. Explain the use and purpose of at least five “Distributions” functions.\n",
    "4. Explain the use of seeds in generating pseudorandom numbers.\"\n",
    "\n",
    "\n",
    "\n",
    "\n"
   ]
  },
  {
   "cell_type": "markdown",
   "metadata": {},
   "source": [
    "# Numpy.random package \n",
    "\n",
    "***\n",
    "\n"
   ]
  },
  {
   "cell_type": "code",
   "execution_count": 71,
   "metadata": {},
   "outputs": [],
   "source": [
    "import numpy as np\n",
    "\n",
    "from numpy.random import default_rng\n",
    "rng = default_rng()"
   ]
  },
  {
   "cell_type": "markdown",
   "metadata": {},
   "source": [
    "NumPy is an open-source package used by data scientists and is the universal standard for working with, and manipulating numerical data in Python.The NumPy API is used extensively in Pandas, SciPy, Matplotlib, scikit-learn, scikit-image and most other data science and scientific Python packages.\n",
    "There are a number of distinct functions within the package that perform a wide variety of high- level mathematical operations on multidimensional numerical arrays. In recent years Numpy has become particularly important for machine learning and deep learning, as these often involve large datasets of numerical data. The cleaning and reshaping of data is a large part of the workflow when dealing with these datasets and nupmy can provide some excellent tools to aid in this data manipulation[1]  [4]\n",
    "Among these functions is the numpy.random package which can generate pseudo-random numbers. This is useful for many aspects of data analytics and machine learning projects, from randomly initialing weights in an artificial neural network, splitting data into random sets, or randomly shuffling your dataset, being able to generate random numbers (actually, repeatable pseudo-random numbers) is essential. **Random sampling is used in many tasks related to data analysis, statistics and other related fields, and is very commonly seen in probability, Bayesian statistics (“Bayesian statistics is a mathematical procedure that applies probabilities to statistical problems. It provides people the tools to update their beliefs in the evidence of new data.”), machine learning, among others  (Check this sentence out for improvements)**\n",
    "\n",
    "\n",
    "\n",
    "While python's in-built random package ```random``` can generate values, for larger arrays ```numpy.random``` is preferred as it can sample more than one value at a time. This isn't so much an issue for smaller arrays, but for larger there is a noticeably faster time differential in most cases.[3] The numpy package can also offer a few extra probability distributions, such as binomial, commonly used in scientific research, as well as a couple of convenience functions for generating arrays of random data. The random.random library is a little more lightweight, and generally not considered suitable for scientific research or other kinds of work in statistics. [2] "
   ]
  },
  {
   "cell_type": "markdown",
   "metadata": {},
   "source": [
    "\n",
    "## Simple random data\n",
    "*** \n",
    "\n",
    "\n",
    "**Simple random data in v1.16:** \n",
    "\n",
    "\n",
    "- rand(d0, d1, …, dn)\tRandom values in a given shape.\n",
    "- randn(d0, d1, …, dn)\tReturn a sample (or samples) from the “standard normal” distribution.\n",
    "- randint(low[, high, size, dtype])\tReturn random integers from low (inclusive) to high (exclusive).\n",
    "- random([size])\tReturn random floats in the half-open interval [0.0, 1.0).\n",
    "- numpy.random.random_sample\n",
    "- choice(a[, size, replace, p])\tGenerates a random sample from a given 1-D array\n",
    "bytes(length)\tReturn random bytes.\n",
    "\n",
    "\n",
    "### numpy.random.rand\n",
    "***\n",
    "random.rand(d0, d1, ..., dn)\n",
    "Random values in a given shape.\n",
    "\n",
    "Note\n",
    "\n",
    "This is a convenience function for users porting code from Matlab, and wraps random_sample. That function takes a tuple to specify the size of the output, which is consistent with other NumPy functions like numpy.zeros and numpy.ones.\n",
    "\n",
    "Create an array of the given shape and populate it with random samples from a uniform distribution over [0, 1).\n",
    "\n",
    "Parameters\n",
    "d0, d1, …, dnint, optional\n",
    "The dimensions of the returned array, must be non-negative. If no argument is given a single Python float is returned.\n",
    "\n",
    "Returns\n",
    "outndarray, shape (d0, d1, ..., dn)\n",
    "Random values.\n",
    "\n",
    "\n",
    "\n",
    "\n",
    "       \n",
    " "
   ]
  },
  {
   "cell_type": "code",
   "execution_count": 72,
   "metadata": {},
   "outputs": [
    {
     "data": {
      "text/plain": [
       "array([[0.75942092, 0.51802332],\n",
       "       [0.65741171, 0.46684917],\n",
       "       [0.00177698, 0.42708268]])"
      ]
     },
     "execution_count": 72,
     "metadata": {},
     "output_type": "execute_result"
    }
   ],
   "source": [
    "np.random.rand(3,2)"
   ]
  },
  {
   "cell_type": "markdown",
   "metadata": {},
   "source": [
    "### numpy.random.randn\n",
    "***\n",
    "random.randn(d0, d1, ..., dn)\n",
    "Return a sample (or samples) from the “standard normal” distribution.\n",
    "\n",
    "Note\n",
    "\n",
    "This is a convenience function for users porting code from Matlab, and wraps standard_normal. That function takes a tuple to specify the size of the output, which is consistent with other NumPy functions like numpy.zeros and numpy.ones.\n",
    "\n",
    "Note\n",
    "\n",
    "New code should use the standard_normal method of a default_rng() instance instead; please see the Quick Start.\n",
    "\n",
    "If positive int_like arguments are provided, randn generates an array of shape (d0, d1, ..., dn), filled with random floats sampled from a univariate “normal” (Gaussian) distribution of mean 0 and variance 1. A single float randomly sampled from the distribution is returned if no argument is provided.\n",
    "\n",
    "Parameters\n",
    "d0, d1, …, dnint, optional\n",
    "The dimensions of the returned array, must be non-negative. If no argument is given a single Python float is returned.\n",
    "\n",
    "Returns\n",
    "Zndarray or float\n",
    "A (d0, d1, ..., dn)-shaped array of floating-point samples from the standard normal distribution, or a single such float if no parameters were supplied.\n",
    "\n",
    "See also\n",
    "\n",
    "standard_normal\n",
    "Similar, but takes a tuple as its argument.\n",
    "\n",
    "normal\n",
    "Also accepts mu and sigma arguments.\n",
    "\n",
    "Generator.standard_normal\n",
    "which should be used for new code.\n",
    "\n",
    "Notes\n",
    "\n",
    "For random samples from , use:\n",
    "\n",
    "sigma * np.random.randn(...) + mu\n",
    "\n"
   ]
  },
  {
   "cell_type": "code",
   "execution_count": 73,
   "metadata": {},
   "outputs": [
    {
     "data": {
      "text/plain": [
       "-0.1313396345515561"
      ]
     },
     "execution_count": 73,
     "metadata": {},
     "output_type": "execute_result"
    }
   ],
   "source": [
    "np.random.randn()"
   ]
  },
  {
   "cell_type": "code",
   "execution_count": 74,
   "metadata": {},
   "outputs": [
    {
     "data": {
      "text/plain": [
       "array([[1.30840679, 4.4382527 , 0.85689875, 4.37939445],\n",
       "       [5.66179456, 4.08784427, 4.65951461, 2.85148692]])"
      ]
     },
     "execution_count": 74,
     "metadata": {},
     "output_type": "execute_result"
    }
   ],
   "source": [
    "#Two-by-four array of samples from N(3, 6.25):\n",
    "\n",
    "3 + 2.5 * np.random.randn(2, 4)"
   ]
  },
  {
   "cell_type": "markdown",
   "metadata": {},
   "source": []
  },
  {
   "cell_type": "markdown",
   "metadata": {},
   "source": [
    "### numpy.random.Generator.integers\n",
    "***\n",
    "\n",
    "random.randint(low, high=None, size=None, dtype=int)\n",
    "Return random integers from low (inclusive) to high (exclusive).\n",
    "\n",
    "Return random integers from the “discrete uniform” distribution of the specified dtype in the “half-open” interval [low, high). If high is None (the default), then results are from [0, low).\n",
    "\n",
    "Note\n",
    "\n",
    "New code should use the integers method of a default_rng() instance instead; please see the Quick Start.\n",
    "\n",
    "Parameters\n",
    "lowint or array-like of ints\n",
    "Lowest (signed) integers to be drawn from the distribution (unless high=None, in which case this parameter is one above the highest such integer).\n",
    "\n",
    "highint or array-like of ints, optional\n",
    "If provided, one above the largest (signed) integer to be drawn from the distribution (see above for behavior if high=None). If array-like, must contain integer values\n",
    "\n",
    "sizeint or tuple of ints, optional\n",
    "Output shape. If the given shape is, e.g., (m, n, k), then m * n * k samples are drawn. Default is None, in which case a single value is returned.\n",
    "\n",
    "dtypedtype, optional\n",
    "Desired dtype of the result. Byteorder must be native. The default value is int.\n",
    "\n",
    "New in version 1.11.0.\n",
    "\n",
    "Returns\n",
    "outint or ndarray of ints\n",
    "size-shaped array of random integers from the appropriate distribution, or a single such random int if size not provided.\n",
    "\n",
    "See also\n",
    "\n",
    "random_integers\n",
    "similar to randint, only for the closed interval [low, high], and 1 is the lowest value if high is omitted.\n",
    "\n",
    "Generator.integers\n",
    "which should be used for new code.\n",
    "\n",
    "       \n",
    "\n",
    "### numpy.random.random_integers¶\n",
    "random.random_integers(low, high=None, size=None)\n",
    "Random integers of type np.int_ between low and high, inclusive.\n",
    "\n",
    "Return random integers of type np.int_ from the “discrete uniform” distribution in the closed interval [low, high]. If high is None (the default), then results are from [1, low]. The np.int_ type translates to the C long integer type and its precision is platform dependent.\n",
    "\n",
    "**This function has been deprecated.** Use randint instead.\n",
    "\n",
    "Deprecated since version 1.11.0.\n",
    "\n",
    "\n",
    "numpy.random.Generator.integers\n",
    "numpy.random.Generator.integers\n",
    "andom.Generator.integers(low, high=None, size=None, dtype=np.int64, endpoint=False)\n",
    "Return random integers from low (inclusive) to high (exclusive), or if endpoint=True, low (inclusive) to high (inclusive). Replaces RandomState.randint (with endpoint=False) and RandomState.random_integers (with endpoint=True)\n",
    "\n",
    "Return random integers from the “discrete uniform” distribution of the specified dtype. If high is None (the default), then results are from 0 to low.\n",
    "\n",
    "Parameters\n",
    "lowint or array-like of ints\n",
    "Lowest (signed) integers to be drawn from the distribution (unless high=None, in which case this parameter is 0 and this value is used for high).\n",
    "\n",
    "highint or array-like of ints, optional\n",
    "If provided, one above the largest (signed) integer to be drawn from the distribution (see above for behavior if high=None). If array-like, must contain integer values\n",
    "\n",
    "sizeint or tuple of ints, optional\n",
    "Output shape. If the given shape is, e.g., (m, n, k), then m * n * k samples are drawn. Default is None, in which case a single value is returned.\n",
    "\n",
    "dtypedtype, optional\n",
    "Desired dtype of the result. Byteorder must be native. The default value is np.int64.\n",
    "\n",
    "endpointbool, optional\n",
    "If true, sample from the interval [low, high] instead of the default [low, high) Defaults to False\n",
    "\n",
    "Returns\n",
    "outint or ndarray of ints\n",
    "size-shaped array of random integers from the appropriate distribution, or a single such random int if size not provided.\n",
    "\n",
    "Notes\n",
    "\n",
    "When using broadcasting with uint64 dtypes, the maximum value (2**64) cannot be represented as a standard integer type. The high array (or low if high is None) must have object dtype, e.g., array([2**64]).\n",
    "\n",
    "\n"
   ]
  },
  {
   "cell_type": "code",
   "execution_count": 75,
   "metadata": {},
   "outputs": [
    {
     "data": {
      "text/plain": [
       "array([1, 1, 0, 1, 1, 1, 0, 1, 0, 1])"
      ]
     },
     "execution_count": 75,
     "metadata": {},
     "output_type": "execute_result"
    }
   ],
   "source": [
    "rng.integers(2, size=10)"
   ]
  },
  {
   "cell_type": "code",
   "execution_count": 76,
   "metadata": {},
   "outputs": [
    {
     "data": {
      "text/plain": [
       "array([0, 0, 0, 0, 0, 0, 0, 0, 0, 0])"
      ]
     },
     "execution_count": 76,
     "metadata": {},
     "output_type": "execute_result"
    }
   ],
   "source": [
    "rng.integers(1, size=10)"
   ]
  },
  {
   "cell_type": "code",
   "execution_count": 77,
   "metadata": {},
   "outputs": [
    {
     "data": {
      "text/plain": [
       "array([[2, 4, 2, 4],\n",
       "       [1, 0, 2, 2]])"
      ]
     },
     "execution_count": 77,
     "metadata": {},
     "output_type": "execute_result"
    }
   ],
   "source": [
    "#Generate a 2 x 4 array of ints between 0 and 4, inclusive:\n",
    "\n",
    "rng.integers(5, size=(2, 4))"
   ]
  },
  {
   "cell_type": "code",
   "execution_count": 78,
   "metadata": {},
   "outputs": [
    {
     "data": {
      "text/plain": [
       "array([1, 2, 4])"
      ]
     },
     "execution_count": 78,
     "metadata": {},
     "output_type": "execute_result"
    }
   ],
   "source": [
    "#Generate a 1 x 3 array with 3 different upper bounds\n",
    "\n",
    "rng.integers(1, [3, 5, 10])"
   ]
  },
  {
   "cell_type": "code",
   "execution_count": 79,
   "metadata": {},
   "outputs": [
    {
     "data": {
      "text/plain": [
       "array([5, 5, 8])"
      ]
     },
     "execution_count": 79,
     "metadata": {},
     "output_type": "execute_result"
    }
   ],
   "source": [
    "#Generate a 1 by 3 array with 3 different lower bounds\n",
    "\n",
    "rng.integers([1, 5, 7], 10)"
   ]
  },
  {
   "cell_type": "code",
   "execution_count": 80,
   "metadata": {},
   "outputs": [
    {
     "data": {
      "text/plain": [
       "array([[ 8,  8,  8,  8],\n",
       "       [11, 14, 10, 19]], dtype=uint8)"
      ]
     },
     "execution_count": 80,
     "metadata": {},
     "output_type": "execute_result"
    }
   ],
   "source": [
    "#Generate a 2 by 4 array using broadcasting with dtype of uint8\n",
    "\n",
    "rng.integers([1, 3, 5, 7], [[10], [20]], dtype=np.uint8)"
   ]
  },
  {
   "cell_type": "markdown",
   "metadata": {},
   "source": [
    "### numpy.random.random_sample (ranf and random.sample aliases)\n",
    "\n",
    "\n",
    "\n",
    "*### numpy.random.random-\n",
    "random.random(size=None)\n",
    "Return random floats in the half-open interval [0.0, 1.0). Alias for random_sample to ease forward-porting to the new random API.*\n",
    "\n",
    "\n",
    "\n",
    "\n",
    "\n",
    "random.random_sample(size=None)\n",
    "Return random floats in the half-open interval [0.0, 1.0).\n",
    "\n",
    "\n",
    "Results are from the “continuous uniform” distribution over the stated interval. To sample  multiply the output of random_sample by (b-a) and add a:\n",
    "\n",
    "(b - a) * random_sample() + a\n",
    "Note\n",
    "\n",
    "New code should use the random method of a default_rng() instance instead; please see the Quick Start.\n",
    "\n",
    "Parameters\n",
    "sizeint or tuple of ints, optional\n",
    "Output shape. If the given shape is, e.g., (m, n, k), then m * n * k samples are drawn. Default is None, in which case a single value is returned.\n",
    "\n",
    "Returns\n",
    "outfloat or ndarray of floats\n",
    "Array of random floats of shape size (unless size=None, in which case a single float is returned).\n",
    "\n",
    "See also\n",
    "\n",
    "Generator.random\n",
    "which should be used for new code.\n",
    "\n",
    "       \n",
    "\n",
    "\n",
    "\n",
    "\n"
   ]
  },
  {
   "cell_type": "code",
   "execution_count": 81,
   "metadata": {},
   "outputs": [
    {
     "data": {
      "text/plain": [
       "0.401259693467627"
      ]
     },
     "execution_count": 81,
     "metadata": {},
     "output_type": "execute_result"
    }
   ],
   "source": [
    "np.random.random_sample()"
   ]
  },
  {
   "cell_type": "code",
   "execution_count": 82,
   "metadata": {},
   "outputs": [
    {
     "data": {
      "text/plain": [
       "float"
      ]
     },
     "execution_count": 82,
     "metadata": {},
     "output_type": "execute_result"
    }
   ],
   "source": [
    "type(np.random.random_sample())"
   ]
  },
  {
   "cell_type": "code",
   "execution_count": 83,
   "metadata": {},
   "outputs": [
    {
     "data": {
      "text/plain": [
       "array([0.78926276, 0.88662003, 0.48737228, 0.38540362, 0.56930928])"
      ]
     },
     "execution_count": 83,
     "metadata": {},
     "output_type": "execute_result"
    }
   ],
   "source": [
    "np.random.random_sample((5,))"
   ]
  },
  {
   "cell_type": "code",
   "execution_count": 84,
   "metadata": {},
   "outputs": [
    {
     "data": {
      "text/plain": [
       "array([[-2.59573615, -2.81638634],\n",
       "       [-3.0938494 , -4.72410933],\n",
       "       [-1.36905015, -0.4327126 ]])"
      ]
     },
     "execution_count": 84,
     "metadata": {},
     "output_type": "execute_result"
    }
   ],
   "source": [
    "#Three-by-two array of random numbers from [-5, 0):\n",
    "\n",
    "5 * np.random.random_sample((3, 2)) - 5\n",
    "\n",
    "       "
   ]
  },
  {
   "cell_type": "markdown",
   "metadata": {},
   "source": [
    "### numpy.random.choice\n",
    "random.choice(a, size=None, replace=True, p=None)\n",
    "Generates a random sample from a given 1-D array\n",
    "\n",
    "New in version 1.7.0.\n",
    "\n",
    "Note\n",
    "\n",
    "New code should use the choice method of a default_rng() instance instead; please see the Quick Start.\n",
    "\n",
    "Parameters\n",
    "a1-D array-like or int\n",
    "If an ndarray, a random sample is generated from its elements. If an int, the random sample is generated as if it were np.arange(a)\n",
    "\n",
    "sizeint or tuple of ints, optional\n",
    "Output shape. If the given shape is, e.g., (m, n, k), then m * n * k samples are drawn. Default is None, in which case a single value is returned.\n",
    "\n",
    "replaceboolean, optional\n",
    "Whether the sample is with or without replacement. Default is True, meaning that a value of a can be selected multiple times.\n",
    "\n",
    "p1-D array-like, optional\n",
    "The probabilities associated with each entry in a. If not given, the sample assumes a uniform distribution over all entries in a.\n",
    "\n",
    "Returns\n",
    "samplessingle item or ndarray\n",
    "The generated random samples\n",
    "\n",
    "Raises\n",
    "ValueError\n",
    "If a is an int and less than zero, if a or p are not 1-dimensional, if a is an array-like of size 0, if p is not a vector of probabilities, if a and p have different lengths, or if replace=False and the sample size is greater than the population size\n",
    "\n",
    "See also\n",
    "\n",
    "randint, shuffle, permutation\n",
    "Generator.choice\n",
    "which should be used in new code\n",
    "\n",
    "Notes\n",
    "\n",
    "Setting user-specified probabilities through p uses a more general but less efficient sampler than the default. The general sampler produces a different sample than the optimized sampler even if each element of p is 1 / len(a).\n",
    "\n",
    "Sampling random rows from a 2-D array is not possible with this function, but is possible with Generator.choice through its axis keyword.\n"
   ]
  },
  {
   "cell_type": "code",
   "execution_count": 85,
   "metadata": {},
   "outputs": [
    {
     "data": {
      "text/plain": [
       "array([2, 1, 0])"
      ]
     },
     "execution_count": 85,
     "metadata": {},
     "output_type": "execute_result"
    }
   ],
   "source": [
    "#Generate a uniform random sample from np.arange(5) of size 3:\n",
    "rng.choice(5, 3)\n",
    "#This is equivalent to np.random.randint(0,5,3)"
   ]
  },
  {
   "cell_type": "code",
   "execution_count": 86,
   "metadata": {},
   "outputs": [
    {
     "data": {
      "text/plain": [
       "array([3, 3, 3])"
      ]
     },
     "execution_count": 86,
     "metadata": {},
     "output_type": "execute_result"
    }
   ],
   "source": [
    "#Generate a non-uniform random sample from np.arange(5) of size 3:\n",
    "rng.choice(5, 3, p=[0.1, 0, 0.3, 0.6, 0])"
   ]
  },
  {
   "cell_type": "code",
   "execution_count": 87,
   "metadata": {},
   "outputs": [
    {
     "data": {
      "text/plain": [
       "array([0, 2, 4])"
      ]
     },
     "execution_count": 87,
     "metadata": {},
     "output_type": "execute_result"
    }
   ],
   "source": [
    "#Generate a uniform random sample from np.arange(5) of size 3 without replacement:\n",
    "rng.choice(5, 3, replace=False)\n",
    "#This is equivalent to np.random.permutation(np.arange(5))[:3]"
   ]
  },
  {
   "cell_type": "code",
   "execution_count": 88,
   "metadata": {},
   "outputs": [
    {
     "data": {
      "text/plain": [
       "array([2, 3, 0])"
      ]
     },
     "execution_count": 88,
     "metadata": {},
     "output_type": "execute_result"
    }
   ],
   "source": [
    "#Generate a non-uniform random sample from np.arange(5) of size 3 without replacement:\n",
    "\n",
    "rng.choice(5, 3, replace=False, p=[0.1, 0, 0.3, 0.6, 0])"
   ]
  },
  {
   "cell_type": "code",
   "execution_count": 89,
   "metadata": {},
   "outputs": [
    {
     "data": {
      "text/plain": [
       "array(['Christopher', 'Christopher', 'pooh', 'Christopher', 'pooh'],\n",
       "      dtype='<U11')"
      ]
     },
     "execution_count": 89,
     "metadata": {},
     "output_type": "execute_result"
    }
   ],
   "source": [
    "#Any of the above can be repeated with an arbitrary array-like instead of just integers. For instance:\n",
    "\n",
    "aa_milne_arr = ['pooh', 'rabbit', 'piglet', 'Christopher']\n",
    "rng.choice(aa_milne_arr, 5, p=[0.5, 0.1, 0.1, 0.3])\n",
    "      "
   ]
  },
  {
   "cell_type": "markdown",
   "metadata": {},
   "source": [
    "### numpy.random.Generator.bytes¶\n",
    "\n",
    "```random.Generator.bytes(length)```\n",
    "Return random bytes. The parameter denotes the number of integers required in the return. The output returns as a string. \n",
    "\n"
   ]
  },
  {
   "cell_type": "code",
   "execution_count": 90,
   "metadata": {},
   "outputs": [
    {
     "data": {
      "text/plain": [
       "b'\\xe9\\xfe\\x7fJ\\x14\\xa8\\xe5\\xc8\\r\\x8c'"
      ]
     },
     "execution_count": 90,
     "metadata": {},
     "output_type": "execute_result"
    }
   ],
   "source": [
    "# Demonstrates the ease of returning random bytes\n",
    "rng.bytes(10)"
   ]
  },
  {
   "cell_type": "markdown",
   "metadata": {},
   "source": [
    "## Permutations\n",
    "\n",
    "The permutations functions in Numpy  consist of 2 very similar functions: ```shuffle(x)``` and ```permutation (x)```. The documentation has changed on this slightly since the 1.21 release in June 2021 and now provides functionality to manipulate the sub-arrays by calling ```axis```.\n",
    "Prior to the newest release of NumPy the method for calling these functions was through ```np.random.shuffle(x)``` or ```np.random.permutation(x)```; however since release 1.21 in June 2021 [7] the accepted method is now to import ```rng``` from the random package, as seen above, and use this in the function call instead. As of October 2021 the older method of calling this function is still working, but new users should be aware that this may become deprecated in the future.   \n",
    "\n",
    "\n",
    "### Shuffle (x, axis = 0)\n",
    "***\n",
    "The shuffle function modifies an array sequence in-place by shuffling its contents. It should be noted that this function will only shuffle the first axis of a multi-dimensional array (ie an array with more than one sub-arrays) by default. Since June 2021. shuffle now uses ```axis``` as an argument to manipulate the sub-arrays, ie if axis is set at 0 then only the first dimension of arrays will shuffle around. However if it is set to 1 or any other sub-array level, then the first level will set as they were and it is only the values in the dimension called that will move. As this can be a difficult thing to abstractly visualise, I have laid out the following examples below to help visualise the dimensions. \n",
    "\n",
    "\n",
    "\n"
   ]
  },
  {
   "cell_type": "code",
   "execution_count": 91,
   "metadata": {},
   "outputs": [
    {
     "name": "stdout",
     "output_type": "stream",
     "text": [
      "[0 1 2 3 4 5 6 7 8 9]\n"
     ]
    }
   ],
   "source": [
    "#Create a sample array from 0-9 inclusive \n",
    "arr= np.arange(10)\n",
    "print (arr)"
   ]
  },
  {
   "cell_type": "code",
   "execution_count": 92,
   "metadata": {},
   "outputs": [
    {
     "name": "stdout",
     "output_type": "stream",
     "text": [
      "[7 8 1 0 2 4 3 9 6 5]\n"
     ]
    }
   ],
   "source": [
    "#Using the random.shuffle function.\n",
    "\n",
    "rng.shuffle(arr)\n",
    "\n",
    "print (arr) "
   ]
  },
  {
   "cell_type": "code",
   "execution_count": 93,
   "metadata": {},
   "outputs": [
    {
     "name": "stdout",
     "output_type": "stream",
     "text": [
      "[[ 0  1  2]\n",
      " [ 3  4  5]\n",
      " [ 6  7  8]\n",
      " [ 9 10 11]\n",
      " [12 13 14]\n",
      " [15 16 17]]\n"
     ]
    }
   ],
   "source": [
    "#Creating a 6 x 3 array to demonstrate the axis function\n",
    "\n",
    "arr = np.arange(18).reshape((6, 3))\n",
    "\n",
    "print (arr)"
   ]
  },
  {
   "cell_type": "code",
   "execution_count": 94,
   "metadata": {},
   "outputs": [
    {
     "name": "stdout",
     "output_type": "stream",
     "text": [
      "[[ 6  7  8]\n",
      " [12 13 14]\n",
      " [ 9 10 11]\n",
      " [ 3  4  5]\n",
      " [15 16 17]\n",
      " [ 0  1  2]]\n"
     ]
    }
   ],
   "source": [
    "#As there is no axis argument called, shuffle defaults to 0\n",
    "rng.shuffle (arr, axis = 0)\n",
    "\n",
    "print (arr)"
   ]
  },
  {
   "cell_type": "code",
   "execution_count": 95,
   "metadata": {},
   "outputs": [
    {
     "name": "stdout",
     "output_type": "stream",
     "text": [
      "[[ 0  1  2]\n",
      " [ 3  4  5]\n",
      " [ 6  7  8]\n",
      " [ 9 10 11]\n",
      " [12 13 14]\n",
      " [15 16 17]]\n"
     ]
    }
   ],
   "source": [
    "arr = np.arange(18).reshape((6, 3))\n",
    "\n",
    "print (arr)"
   ]
  },
  {
   "cell_type": "code",
   "execution_count": 96,
   "metadata": {},
   "outputs": [
    {
     "name": "stdout",
     "output_type": "stream",
     "text": [
      "[[ 2  0  1]\n",
      " [ 5  3  4]\n",
      " [ 8  6  7]\n",
      " [11  9 10]\n",
      " [14 12 13]\n",
      " [17 15 16]]\n"
     ]
    }
   ],
   "source": [
    "rng.shuffle (arr, axis =1)\n",
    "\n",
    "print (arr)"
   ]
  },
  {
   "cell_type": "markdown",
   "metadata": {},
   "source": [
    "### Permutation (x, axis = 0)\n",
    "***\n",
    "Is the act or process of changing the linear order of an ordered set. permutation(x) returns a random permutation of a sequence, or return a permuted range. If ```x``` is an array, it creates a copy of the original and shuffles those elements randomly. As with ```shuffle``` above, if it a multi-dimensional array then only the first dimension of the array is shuffled by default, however the use of ```axis``` will determine which array is shuffled, defaulting as axis 0. "
   ]
  },
  {
   "cell_type": "code",
   "execution_count": 97,
   "metadata": {},
   "outputs": [
    {
     "name": "stdout",
     "output_type": "stream",
     "text": [
      "[[ 2  0  1]\n",
      " [ 5  3  4]\n",
      " [ 8  6  7]\n",
      " [11  9 10]\n",
      " [14 12 13]\n",
      " [17 15 16]]\n"
     ]
    }
   ],
   "source": [
    "#arr is created from the example above. \n",
    "print (arr)\n"
   ]
  },
  {
   "cell_type": "code",
   "execution_count": 98,
   "metadata": {},
   "outputs": [
    {
     "data": {
      "text/plain": [
       "array([[ 8,  6,  7],\n",
       "       [17, 15, 16],\n",
       "       [14, 12, 13],\n",
       "       [11,  9, 10],\n",
       "       [ 2,  0,  1],\n",
       "       [ 5,  3,  4]])"
      ]
     },
     "execution_count": 98,
     "metadata": {},
     "output_type": "execute_result"
    }
   ],
   "source": [
    "#demonstrates the usage of permutation.\n",
    "rng.permutation(arr)"
   ]
  },
  {
   "cell_type": "code",
   "execution_count": 99,
   "metadata": {},
   "outputs": [
    {
     "name": "stdout",
     "output_type": "stream",
     "text": [
      "[[ 0  1  2]\n",
      " [ 3  4  5]\n",
      " [ 6  7  8]\n",
      " [ 9 10 11]\n",
      " [12 13 14]\n",
      " [15 16 17]]\n"
     ]
    }
   ],
   "source": [
    "#Create original array\n",
    "arr= np.arange(18). reshape((6,3))\n",
    "print (arr)"
   ]
  },
  {
   "cell_type": "code",
   "execution_count": 100,
   "metadata": {},
   "outputs": [
    {
     "data": {
      "text/plain": [
       "array([[12, 13, 14],\n",
       "       [ 3,  4,  5],\n",
       "       [ 9, 10, 11],\n",
       "       [ 0,  1,  2],\n",
       "       [15, 16, 17],\n",
       "       [ 6,  7,  8]])"
      ]
     },
     "execution_count": 100,
     "metadata": {},
     "output_type": "execute_result"
    }
   ],
   "source": [
    "#Demonstrate permutation on axis 0\n",
    "rng.permutation (arr)"
   ]
  },
  {
   "cell_type": "code",
   "execution_count": 101,
   "metadata": {},
   "outputs": [
    {
     "data": {
      "text/plain": [
       "array([[ 1,  0,  2],\n",
       "       [ 4,  3,  5],\n",
       "       [ 7,  6,  8],\n",
       "       [10,  9, 11],\n",
       "       [13, 12, 14],\n",
       "       [16, 15, 17]])"
      ]
     },
     "execution_count": 101,
     "metadata": {},
     "output_type": "execute_result"
    }
   ],
   "source": [
    "#Demonstrate permutation on axis 1\n",
    "rng.permutation (arr, axis =  1)"
   ]
  },
  {
   "cell_type": "markdown",
   "metadata": {},
   "source": [
    "Note that in the example of permutation on axis 1 the positioning of the original numbers within each sub-array are the only thing that shuffled, leaving the positioning of the arrays in the overall list as it was when the object was originally created"
   ]
  },
  {
   "cell_type": "markdown",
   "metadata": {},
   "source": [
    "Numpy’s random number routines produce pseudo random numbers using combinations of a BitGenerator to create sequences and a Generator to use those sequences to sample from different statistical distributions:\n",
    "\n",
    "BitGenerators: Objects that generate random numbers. These are typically unsigned integer words filled with sequences of either 32 or 64 random bits.\n",
    "\n",
    "Generators: Objects that transform sequences of random bits from a BitGenerator into sequences of numbers that follow a specific probability distribution (such as uniform, Normal or Binomial) within a specified interval.\n",
    "\n",
    "Since Numpy version 1.17.0 the Generator can be initialized with a number of different BitGenerators. It exposes many different probability distributions. See NEP 19 for context on the updated random Numpy number routines. The legacy RandomState random number routines are still available, but limited to a single BitGenerator. See What’s New or Different for a complete list of improvements and differences from the legacy RandomState.\n",
    "\n",
    "For convenience and backward compatibility, a single RandomState instance’s methods are imported into the numpy.random namespace, see Legacy Random Generation for the complete list."
   ]
  },
  {
   "cell_type": "code",
   "execution_count": null,
   "metadata": {},
   "outputs": [],
   "source": []
  },
  {
   "cell_type": "markdown",
   "metadata": {},
   "source": [
    "# END\n",
    "***"
   ]
  },
  {
   "cell_type": "markdown",
   "metadata": {},
   "source": [
    "## References \n",
    "\n",
    "[1]: https://numpy.org/doc/stable/user/absolute_beginners.html#generating-random-numbers\n",
    "\n",
    "[2]: https://stackoverflow.com/questions/7029993/differences-between-numpy-random-and-random-random-in-python\n",
    "\n",
    "[3]: wes mckinney's book pg 120\n",
    "\n",
    "[4]: https://www.sharpsightlabs.com/blog/numpy-random-choice/\n",
    "\n",
    "[5]: https://www.analyticsvidhya.com/blog/2016/06/bayesian-statistics-beginners-simple-english/\n",
    "\n",
    "[6]: https://numpy.org/doc/stable/reference/random/generated/numpy.random.shuffle.html\n",
    "\n",
    "[7]: https://github.com/numpy/numpy/milestone/87\n",
    "\n",
    "[8]: https://numpy.org/doc/stable/reference/random/generated/numpy.random.Generator.permutation.html#numpy.random.Generator.permutation\n",
    "\n",
    "[9]: https://numpy.org/doc/stable/reference/random/generated/numpy.random.Generator.shuffle.html#numpy.random.Generator.shuffle\n",
    "\n",
    "\n",
    "\n",
    "https://www.qualtrics.com/uk/experience-management/research/simple-random-sampling/\n",
    "\n",
    "\n",
    "\n",
    "\n"
   ]
  },
  {
   "cell_type": "code",
   "execution_count": null,
   "metadata": {},
   "outputs": [],
   "source": []
  },
  {
   "cell_type": "code",
   "execution_count": null,
   "metadata": {},
   "outputs": [],
   "source": []
  },
  {
   "cell_type": "code",
   "execution_count": null,
   "metadata": {},
   "outputs": [],
   "source": []
  }
 ],
 "metadata": {
  "kernelspec": {
   "display_name": "Python 3",
   "language": "python",
   "name": "python3"
  },
  "language_info": {
   "codemirror_mode": {
    "name": "ipython",
    "version": 3
   },
   "file_extension": ".py",
   "mimetype": "text/x-python",
   "name": "python",
   "nbconvert_exporter": "python",
   "pygments_lexer": "ipython3",
   "version": "3.8.5"
  }
 },
 "nbformat": 4,
 "nbformat_minor": 4
}
