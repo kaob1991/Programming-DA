{
 "cells": [
  {
   "cell_type": "markdown",
   "metadata": {},
   "source": [
    "\" following assignment concerns the numpy.random package in Python [2]. You are\n",
    "required to create a Jupyter [5] notebook explaining the use of the package, including\n",
    "detailed explanations of at least five of the distributions provided for in the package.\n",
    "There are four distinct tasks to be carried out in your Jupyter notebook.\n",
    "1. Explain the overall purpose of the package.\n",
    "\n",
    "    Explained in basic what the package is used for \n",
    "    \n",
    "    \n",
    "2. Explain the use of the “Simple random data” and “Permutations” functions.\n",
    "    Permutations done\n",
    "\n",
    "\n",
    "3. Explain the use and purpose of at least five “Distributions” functions.\n",
    "4. Explain the use of seeds in generating pseudorandom numbers.\"\n",
    "\n",
    "\n",
    "\n",
    "\n"
   ]
  },
  {
   "cell_type": "markdown",
   "metadata": {},
   "source": [
    "# Numpy.random package \n",
    "\n",
    "***\n",
    "\n"
   ]
  },
  {
   "cell_type": "code",
   "execution_count": 14,
   "metadata": {},
   "outputs": [],
   "source": [
    "import numpy as np\n",
    "\n",
    "from numpy.random import default_rng\n",
    "rng = default_rng()"
   ]
  },
  {
   "cell_type": "markdown",
   "metadata": {},
   "source": [
    "NumPy is an open-source package used by data scientists and is the universal standard for working with, and manipulating numerical data in Python.The NumPy API is used extensively in Pandas, SciPy, Matplotlib, scikit-learn, scikit-image and most other data science and scientific Python packages.\n",
    "There are a number of distinct functions within the package that perform a wide variety of high- level mathematical operations on multidimensional numerical arrays. In recent years Numpy has become particularly important for machine learning and deep learning, as these often involve large datasets of numerical data. The cleaning and reshaping of data is a large part of the workflow when dealing with these datasets and nupmy can provide some excellent tools to aid in this data manipulation[1]  [4]\n",
    "Among these functions is the numpy.random package which can generate pseudo-random numbers. This is useful for many aspects of data analytics and machine learning projects, from randomly initialing weights in an artificial neural network, splitting data into random sets, or randomly shuffling your dataset, being able to generate random numbers (actually, repeatable pseudo-random numbers) is essential. **Random sampling is used in many tasks related to data analysis, statistics and other related fields, and is very commonly seen in probability, Bayesian statistics (“Bayesian statistics is a mathematical procedure that applies probabilities to statistical problems. It provides people the tools to update their beliefs in the evidence of new data.”), machine learning, among others  (Check this sentence out for improvements)**\n",
    "\n",
    "\n",
    "\n",
    "While python's in-built random package ```random``` can generate values, for larger arrays ```numpy.random``` is preferred as it can sample more than one value at a time. This isn't so much an issue for smaller arrays, but for larger there is a noticeably faster time differential in most cases.[3] The numpy package can also offer a few extra probability distributions, such as binomial, commonly used in scientific research, as well as a couple of convenience functions for generating arrays of random data. The random.random library is a little more lightweight, and generally not considered suitable for scientific research or other kinds of work in statistics. [2] "
   ]
  },
  {
   "cell_type": "markdown",
   "metadata": {},
   "source": [
    "\n",
    "## Simple random data\n",
    "*** \n",
    "\n",
    "\n",
    "**Simple random data in v1.21:** \n",
    "\n",
    "\n",
    "- **done** rand(d0, d1, …, dn)\tRandom values in a given shape.\n",
    "- **done** numpy.random.Generator.standard_normal (d0, d1, …, dn)\tReturn a sample (or samples) from the “standard normal” distribution.\n",
    "- **done** numpy.random.Generator.integers\tReturn random integers from low (inclusive) to high (exclusive).\n",
    "- **done** numpy.random.Generator.random\n",
    "- **Done** numpy.random.Generator.choice(a[, size, replace, p])\tGenerates a random sample from a given 1-D array\n",
    "- **Done** numpy.random.Generator.bytes(length)\tReturn random bytes.\n",
    "- **TO DO** numpy.random.Generator.normal\n",
    "\n",
    "### numpy.random.rand\n",
    "***\n",
    "random.rand(d0, d1, ..., dn)\n",
    "- Random values in a given multi-dimensional shape. \n",
    "- This a convenience function to aid in compatibility with Matlab function ```random_sample``` (a function that takes a tuple to specify output size.) \n",
    "- It creates an array of a given shape and populates it with random samples from a unifom distribution over [(0,1)]. \n",
    "- If no argument is given, a single float integer is returned. \n",
    "- The dimensions of the returned array must be positive\n",
    "\n",
    "\n",
    "\n",
    "\n",
    "\n",
    "\n",
    "       \n",
    " "
   ]
  },
  {
   "cell_type": "code",
   "execution_count": 15,
   "metadata": {},
   "outputs": [
    {
     "data": {
      "text/plain": [
       "array([[0.6687104 , 0.61034669],\n",
       "       [0.88859359, 0.03871408],\n",
       "       [0.83167527, 0.18570586]])"
      ]
     },
     "execution_count": 15,
     "metadata": {},
     "output_type": "execute_result"
    }
   ],
   "source": [
    "np.random.rand(3,2)"
   ]
  },
  {
   "cell_type": "markdown",
   "metadata": {},
   "source": [
    "### numpy.random.randn\n",
    "***\n",
    "random.randn(d0, d1, ..., dn)\n",
    "- Return a sample (or samples) from the “standard normal” distribution.\n",
    "\n",
    "- This is a convenience function to aid in compatibility with Matlab function ```standard_normal```. That function takes a tuple to specify the size of the output. \n",
    "\n",
    "- **New code should use the standard_normal method of a default_rng() instance instead. standard_normal takes a tuple in as its arguemtns\n",
    "\n",
    "- If positive integer-like arguments are provided, ```randn``` generates an array from the shape provided in the arguments filled with random floats sampled from a standard normal (Gaussian) distribution of mean 0 and variance 1.\n",
    "- A single float randomly sampled from the distribution is returned if no argument is provided.\n",
    "\n",
    "### - To look at:\n",
    "    - normal\n",
    "            Also accepts mu and sigma arguments.\n",
    "\n",
    "    - Generator.standard_normal\n",
    "            which should be used for new code.\n",
    "            \n",
    "            \n",
    "## New code from 1.21\n",
    "\n",
    "numpy.random.Generator.standard_normal\n",
    "method\n",
    "\n",
    "random.Generator.standard_normal(size=None, dtype=np.float64, out=None)\n",
    "Draw samples from a standard Normal distribution (mean=0, stdev=1).\n",
    "\n",
    "Parameters\n",
    "sizeint or tuple of ints, optional\n",
    "Output shape. If the given shape is, e.g., (m, n, k), then m * n * k samples are drawn. Default is None, in which case a single value is returned.\n",
    "\n",
    "dtypedtype, optional\n",
    "Desired dtype of the result, only float64 and float32 are supported. Byteorder must be native. The default value is np.float64.\n",
    "\n",
    "outndarray, optional\n",
    "Alternative output array in which to place the result. If size is not None, it must have the same shape as the provided size and must match the type of the output values.\n",
    "\n",
    "Returns\n",
    "outfloat or ndarray\n",
    "A floating-point array of shape size of drawn samples, or a single sample if size was not specified.\n",
    "\n",
    "See also\n",
    "\n",
    "normal\n",
    "Equivalent function with additional loc and scale arguments for setting the mean and standard deviation.\n",
    "\n",
    "Notes\n",
    "\n",
    "For random samples from , use one of:\n",
    "\n",
    "mu + sigma * rng.standard_normal(size=...)\n",
    "rng.normal(mu, sigma, size=...)\n",
    "\n",
    "\n",
    "\n"
   ]
  },
  {
   "cell_type": "code",
   "execution_count": 16,
   "metadata": {},
   "outputs": [
    {
     "data": {
      "text/plain": [
       "0.36282647390690914"
      ]
     },
     "execution_count": 16,
     "metadata": {},
     "output_type": "execute_result"
    }
   ],
   "source": [
    "np.random.randn()"
   ]
  },
  {
   "cell_type": "code",
   "execution_count": 17,
   "metadata": {},
   "outputs": [
    {
     "data": {
      "text/plain": [
       "array([[-0.49064393,  2.65226491,  4.88808249,  2.13151736],\n",
       "       [ 4.22204069,  5.5881305 ,  2.41550773,  2.89788225]])"
      ]
     },
     "execution_count": 17,
     "metadata": {},
     "output_type": "execute_result"
    }
   ],
   "source": [
    "#Two-by-four array of samples from N(3, 6.25):\n",
    "\n",
    "3 + 2.5 * np.random.randn(2, 4)"
   ]
  },
  {
   "cell_type": "markdown",
   "metadata": {},
   "source": [
    "### numpy.random.Generator.integers\n",
    "***\n",
    "\n",
    "numpy.random.Generator.integers(low, high=None, size=None, dtype=np.int64, endpoint = False)\n",
    "- Return random integers from low (inclusive) to high (exclusive) \n",
    "- If endpoint is True high is inclusive also\n",
    "\n",
    "- Return random integers from the “discrete uniform” distribution of the specified dtype. If high is None (the default), then results are from 0 to low.\n",
    "\n",
    "### Parameters\n",
    "\n",
    "- low: int or array-like of ints\n",
    "Lowest (signed) integers to be drawn from the distribution. If high is None, low is used for high. \n",
    "\n",
    "- high: int or array-like of ints, optional\n",
    "If provided, one above the largest (signed) integer to be drawn from the distribution. If array-like, must contain integer values\n",
    "\n",
    "- size: int or tuple of ints, optional\n",
    "Sets output shape. If the given shape is, e.g., (m, n, k), then m * n * k samples are drawn. If not specified a single value is returned.\n",
    "\n",
    "- dtype: dtype, optional\n",
    "Desired dtype of the result. Byteorder must be native. The default value is np.int64.\n",
    "\n",
    "- endpoint: bool, optional\n",
    "Default is false, so sample is low (inclusive) to high (exclusive). If true, sample is low (inclusive) to high (inclusive)\n",
    "\n",
    "-Returns: \n",
    "size-shaped array of random integers from the appropriate distribution, or a single such random int if size not provided.\n",
    "\n",
    "\n",
    "\n"
   ]
  },
  {
   "cell_type": "code",
   "execution_count": 18,
   "metadata": {},
   "outputs": [
    {
     "data": {
      "text/plain": [
       "array([0, 0, 0, 1, 1, 0, 0, 0, 1, 1])"
      ]
     },
     "execution_count": 18,
     "metadata": {},
     "output_type": "execute_result"
    }
   ],
   "source": [
    "rng.integers(2, size=10)"
   ]
  },
  {
   "cell_type": "code",
   "execution_count": 19,
   "metadata": {},
   "outputs": [
    {
     "data": {
      "text/plain": [
       "array([0, 7, 8, 7, 1, 5, 6, 0, 4, 6])"
      ]
     },
     "execution_count": 19,
     "metadata": {},
     "output_type": "execute_result"
    }
   ],
   "source": [
    "rng.integers(0,10, size=10, endpoint = True)"
   ]
  },
  {
   "cell_type": "code",
   "execution_count": 20,
   "metadata": {},
   "outputs": [
    {
     "data": {
      "text/plain": [
       "array([[0, 4, 2, 4],\n",
       "       [2, 4, 3, 1]])"
      ]
     },
     "execution_count": 20,
     "metadata": {},
     "output_type": "execute_result"
    }
   ],
   "source": [
    "#Generate a 2 x 4 array of ints between 0 and 4, inclusive:\n",
    "\n",
    "rng.integers(5, size=(2, 4))"
   ]
  },
  {
   "cell_type": "code",
   "execution_count": 21,
   "metadata": {},
   "outputs": [
    {
     "data": {
      "text/plain": [
       "array([2, 1, 9])"
      ]
     },
     "execution_count": 21,
     "metadata": {},
     "output_type": "execute_result"
    }
   ],
   "source": [
    "#Generate a 1 x 3 array with 3 different upper bounds\n",
    "\n",
    "rng.integers(1, [3, 5, 10])"
   ]
  },
  {
   "cell_type": "code",
   "execution_count": 22,
   "metadata": {},
   "outputs": [
    {
     "data": {
      "text/plain": [
       "array([8, 9, 7])"
      ]
     },
     "execution_count": 22,
     "metadata": {},
     "output_type": "execute_result"
    }
   ],
   "source": [
    "#Generate a 1 by 3 array with 3 different lower bounds\n",
    "\n",
    "rng.integers([1, 5, 7], 10)"
   ]
  },
  {
   "cell_type": "code",
   "execution_count": 23,
   "metadata": {},
   "outputs": [
    {
     "data": {
      "text/plain": [
       "array([[ 2,  7,  6,  8],\n",
       "       [11, 11, 13, 15]], dtype=uint8)"
      ]
     },
     "execution_count": 23,
     "metadata": {},
     "output_type": "execute_result"
    }
   ],
   "source": [
    "#Generate a 2 by 4 array using broadcasting with dtype of uint8\n",
    "\n",
    "rng.integers([1, 3, 5, 7], [[10], [20]], dtype=np.uint8)"
   ]
  },
  {
   "cell_type": "markdown",
   "metadata": {},
   "source": [
    "### numpy.random.Generator.random\n",
    "numpy.random.Generator.random(size=None, dtype=np.float64, out=None)\n",
    "Return random floats in the half-open interval [0.0, 1.0).\n",
    "\n",
    "\n",
    "- numpy.random.random (size = None)\n",
    "    - Return random floats in the half-open interval [0.0, 1.0). \n",
    "    - Alias for random_sample to ease forward-porting to the new random API\n",
    "\n",
    "\n",
    "\n",
    "\n",
    "\n",
    "- random.random_sample(size=None). \n",
    "\n",
    "- Results are from the “continuous uniform” distribution over the stated interval. \n",
    "\n",
    "\n",
    "Parameters\n",
    "- size: int or tuple of ints, optional. Sets output shape. If not set, default is None, and so a single value is returned\n",
    "\n",
    "- dtype:dtype, optional\n",
    "    - Desired dtype of the result, only float64 and float32 are supported. Byteorder must be native. The default value is np.float64.\n",
    "- out:ndarray, optional\n",
    "    - Alternative output array in which to place the result. If size is not None, it must have the same shape as the provided size and must match the type of the output values.\n",
    "    \n",
    "Returns\n",
    "- Array of random floats of shape ```size``` (unless size=None, in which case a single float is returned).\n",
    "\n",
    "\n",
    "\n",
    "\n"
   ]
  },
  {
   "cell_type": "code",
   "execution_count": 24,
   "metadata": {},
   "outputs": [
    {
     "data": {
      "text/plain": [
       "0.8300549328438728"
      ]
     },
     "execution_count": 24,
     "metadata": {},
     "output_type": "execute_result"
    }
   ],
   "source": [
    "rng.random()"
   ]
  },
  {
   "cell_type": "code",
   "execution_count": 25,
   "metadata": {},
   "outputs": [
    {
     "data": {
      "text/plain": [
       "float"
      ]
     },
     "execution_count": 25,
     "metadata": {},
     "output_type": "execute_result"
    }
   ],
   "source": [
    "type(rng.random())"
   ]
  },
  {
   "cell_type": "code",
   "execution_count": 26,
   "metadata": {},
   "outputs": [
    {
     "data": {
      "text/plain": [
       "array([0.21728889, 0.27428059, 0.20540295, 0.83282441, 0.93709451])"
      ]
     },
     "execution_count": 26,
     "metadata": {},
     "output_type": "execute_result"
    }
   ],
   "source": [
    "rng.random((5,))"
   ]
  },
  {
   "cell_type": "code",
   "execution_count": 27,
   "metadata": {},
   "outputs": [
    {
     "data": {
      "text/plain": [
       "array([[-4.75140742, -3.72378876],\n",
       "       [-4.09146814, -4.14885204],\n",
       "       [-4.85770279, -0.5032998 ]])"
      ]
     },
     "execution_count": 27,
     "metadata": {},
     "output_type": "execute_result"
    }
   ],
   "source": [
    "#Three-by-two array of random numbers from [-5, 0):\n",
    "\n",
    "5 * rng.random((3, 2)) - 5\n",
    "\n",
    "       "
   ]
  },
  {
   "cell_type": "markdown",
   "metadata": {},
   "source": [
    "### numpy.random.Generator.choice\n",
    "numpy.random.Generator.choice(a, size=None, replace=True, p=None, axis=0, shuffle=True)¶\n",
    "Generates a random sample from a given array\n",
    "\n",
    "\n",
    "Parameters\n",
    "- a{array_like, int}\n",
    "If an ndarray, a random sample is generated from its elements. If an int, the random sample is generated from np.arange(a).\n",
    "\n",
    "- size{int, tuple[int]}, optional\n",
    "Output shape. If the given shape is, e.g., (m, n, k), then m * n * k samples are drawn from the 1-d a. If a has more than one dimension, the size shape will be inserted into the axis dimension, so the output ndim will be a.ndim - 1 + len(size). Default is None, in which case a single value is returned.\n",
    "\n",
    "- replace:bool, optional\n",
    "Whether the sample is with or without replacement. Default is True, meaning that a value of a can be selected multiple times.\n",
    "\n",
    "- p: 1-D array_like, optional\n",
    "The probabilities associated with each entry in a. If not given, the sample assumes a uniform distribution over all entries in a.\n",
    "\n",
    "- axis:int, optional\n",
    "The axis along which the selection is performed. The default, 0, selects by row.\n",
    "\n",
    "- shuffle: bool, optional\n",
    "Whether the sample is shuffled when sampling without replacement. Default is True, False provides a speedup.\n",
    "\n",
    "Returns\n",
    "samples: single item or ndarray- The generated random samples\n",
    "\n",
    "Raises\n",
    "ValueError:\n",
    "If a is an int and less than zero, if a or p are not 1-dimensional, if a is an array-like of size 0, if p is not a vector of probabilities, if a and p have different lengths, or if replace=False and the sample size is greater than the population size\n",
    "\n",
    "\n",
    "\n"
   ]
  },
  {
   "cell_type": "code",
   "execution_count": 28,
   "metadata": {},
   "outputs": [
    {
     "data": {
      "text/plain": [
       "array([2, 1, 2])"
      ]
     },
     "execution_count": 28,
     "metadata": {},
     "output_type": "execute_result"
    }
   ],
   "source": [
    "#Generate a uniform random sample from np.arange(5) of size 3:\n",
    "rng.choice(5, 3)\n",
    "#This is equivalent to np.random.randint(0,5,3)"
   ]
  },
  {
   "cell_type": "code",
   "execution_count": 29,
   "metadata": {},
   "outputs": [
    {
     "data": {
      "text/plain": [
       "array([0, 3, 3])"
      ]
     },
     "execution_count": 29,
     "metadata": {},
     "output_type": "execute_result"
    }
   ],
   "source": [
    "#Generate a non-uniform random sample from np.arange(5) of size 3:\n",
    "rng.choice(5, 3, p=[0.1, 0, 0.3, 0.6, 0])"
   ]
  },
  {
   "cell_type": "code",
   "execution_count": 30,
   "metadata": {},
   "outputs": [
    {
     "data": {
      "text/plain": [
       "array([3, 0, 4])"
      ]
     },
     "execution_count": 30,
     "metadata": {},
     "output_type": "execute_result"
    }
   ],
   "source": [
    "#Generate a uniform random sample from np.arange(5) of size 3 without replacement:\n",
    "rng.choice(5, 3, replace=False)\n",
    "#This is equivalent to np.random.permutation(np.arange(5))[:3]"
   ]
  },
  {
   "cell_type": "code",
   "execution_count": 31,
   "metadata": {},
   "outputs": [
    {
     "data": {
      "text/plain": [
       "array([2, 3, 0])"
      ]
     },
     "execution_count": 31,
     "metadata": {},
     "output_type": "execute_result"
    }
   ],
   "source": [
    "#Generate a non-uniform random sample from np.arange(5) of size 3 without replacement:\n",
    "\n",
    "rng.choice(5, 3, replace=False, p=[0.1, 0, 0.3, 0.6, 0])"
   ]
  },
  {
   "cell_type": "code",
   "execution_count": 32,
   "metadata": {},
   "outputs": [
    {
     "data": {
      "text/plain": [
       "array(['Christopher', 'Christopher', 'pooh', 'Christopher', 'pooh'],\n",
       "      dtype='<U11')"
      ]
     },
     "execution_count": 32,
     "metadata": {},
     "output_type": "execute_result"
    }
   ],
   "source": [
    "#Any of the above can be repeated with an arbitrary array-like instead of just integers. For instance:\n",
    "\n",
    "aa_milne_arr = ['pooh', 'rabbit', 'piglet', 'Christopher']\n",
    "rng.choice(aa_milne_arr, 5, p=[0.5, 0.1, 0.1, 0.3])\n",
    "      "
   ]
  },
  {
   "cell_type": "markdown",
   "metadata": {},
   "source": [
    "### numpy.random.Generator.bytes¶\n",
    "\n",
    "```numpy.random.Generator.bytes(length)```\n",
    "Return random bytes. The parameter denotes the number of integers required in the return. The output returns as a string. \n",
    "\n"
   ]
  },
  {
   "cell_type": "code",
   "execution_count": 33,
   "metadata": {},
   "outputs": [
    {
     "data": {
      "text/plain": [
       "b'\\t\\xcfo\\xaaD\\xe3a7\\xde\\xc1'"
      ]
     },
     "execution_count": 33,
     "metadata": {},
     "output_type": "execute_result"
    }
   ],
   "source": [
    "# Demonstrates the ease of returning random bytes\n",
    "rng.bytes(10)"
   ]
  },
  {
   "cell_type": "markdown",
   "metadata": {},
   "source": [
    "## Permutations\n",
    "\n",
    "The permutations functions in Numpy  consist of 2 very similar functions: ```shuffle(x)``` and ```permutation (x)```. The documentation has changed on this slightly since the 1.21 release in June 2021 and now provides functionality to manipulate the sub-arrays by calling ```axis```.\n",
    "Prior to the newest release of NumPy the method for calling these functions was through ```np.random.shuffle(x)``` or ```np.random.permutation(x)```; however since release 1.21 in June 2021 [7] the accepted method is now to import ```rng``` from the random package, as seen above, and use this in the function call instead. As of October 2021 the older method of calling this function is still working, but new users should be aware that this may become deprecated in the future.   \n",
    "\n",
    "\n",
    "### Shuffle (x, axis = 0)\n",
    "***\n",
    "The shuffle function modifies an array sequence in-place by shuffling its contents. It should be noted that this function will only shuffle the first axis of a multi-dimensional array (ie an array with more than one sub-arrays) by default. Since June 2021. shuffle now uses ```axis``` as an argument to manipulate the sub-arrays, ie if axis is set at 0 then only the first dimension of arrays will shuffle around. However if it is set to 1 or any other sub-array level, then the first level will set as they were and it is only the values in the dimension called that will move. As this can be a difficult thing to abstractly visualise, I have laid out the following examples below to help visualise the dimensions. \n",
    "\n",
    "\n",
    "\n"
   ]
  },
  {
   "cell_type": "code",
   "execution_count": 34,
   "metadata": {},
   "outputs": [
    {
     "name": "stdout",
     "output_type": "stream",
     "text": [
      "[0 1 2 3 4 5 6 7 8 9]\n"
     ]
    }
   ],
   "source": [
    "#Create a sample array from 0-9 inclusive \n",
    "arr= np.arange(10)\n",
    "print (arr)"
   ]
  },
  {
   "cell_type": "code",
   "execution_count": 35,
   "metadata": {},
   "outputs": [
    {
     "name": "stdout",
     "output_type": "stream",
     "text": [
      "[8 3 1 6 4 7 2 0 9 5]\n"
     ]
    }
   ],
   "source": [
    "#Using the random.shuffle function.\n",
    "\n",
    "rng.shuffle(arr)\n",
    "\n",
    "print (arr) "
   ]
  },
  {
   "cell_type": "code",
   "execution_count": 36,
   "metadata": {},
   "outputs": [
    {
     "name": "stdout",
     "output_type": "stream",
     "text": [
      "[[ 0  1  2]\n",
      " [ 3  4  5]\n",
      " [ 6  7  8]\n",
      " [ 9 10 11]\n",
      " [12 13 14]\n",
      " [15 16 17]]\n"
     ]
    }
   ],
   "source": [
    "#Creating a 6 x 3 array to demonstrate the axis function\n",
    "\n",
    "arr = np.arange(18).reshape((6, 3))\n",
    "\n",
    "print (arr)"
   ]
  },
  {
   "cell_type": "code",
   "execution_count": 37,
   "metadata": {},
   "outputs": [
    {
     "name": "stdout",
     "output_type": "stream",
     "text": [
      "[[ 6  7  8]\n",
      " [12 13 14]\n",
      " [15 16 17]\n",
      " [ 0  1  2]\n",
      " [ 9 10 11]\n",
      " [ 3  4  5]]\n"
     ]
    }
   ],
   "source": [
    "#As there is no axis argument called, shuffle defaults to 0\n",
    "rng.shuffle (arr, axis = 0)\n",
    "\n",
    "print (arr)"
   ]
  },
  {
   "cell_type": "code",
   "execution_count": 38,
   "metadata": {},
   "outputs": [
    {
     "name": "stdout",
     "output_type": "stream",
     "text": [
      "[[ 0  1  2]\n",
      " [ 3  4  5]\n",
      " [ 6  7  8]\n",
      " [ 9 10 11]\n",
      " [12 13 14]\n",
      " [15 16 17]]\n"
     ]
    }
   ],
   "source": [
    "arr = np.arange(18).reshape((6, 3))\n",
    "\n",
    "print (arr)"
   ]
  },
  {
   "cell_type": "code",
   "execution_count": 39,
   "metadata": {},
   "outputs": [
    {
     "name": "stdout",
     "output_type": "stream",
     "text": [
      "[[ 1  0  2]\n",
      " [ 4  3  5]\n",
      " [ 7  6  8]\n",
      " [10  9 11]\n",
      " [13 12 14]\n",
      " [16 15 17]]\n"
     ]
    }
   ],
   "source": [
    "rng.shuffle (arr, axis =1)\n",
    "\n",
    "print (arr)"
   ]
  },
  {
   "cell_type": "markdown",
   "metadata": {},
   "source": [
    "### Permutation (x, axis = 0)\n",
    "***\n",
    "Is the act or process of changing the linear order of an ordered set. permutation(x) returns a random permutation of a sequence, or return a permuted range. If ```x``` is an array, it creates a copy of the original and shuffles those elements randomly. As with ```shuffle``` above, if it a multi-dimensional array then only the first dimension of the array is shuffled by default, however the use of ```axis``` will determine which array is shuffled, defaulting as axis 0. "
   ]
  },
  {
   "cell_type": "code",
   "execution_count": 40,
   "metadata": {},
   "outputs": [
    {
     "name": "stdout",
     "output_type": "stream",
     "text": [
      "[[ 1  0  2]\n",
      " [ 4  3  5]\n",
      " [ 7  6  8]\n",
      " [10  9 11]\n",
      " [13 12 14]\n",
      " [16 15 17]]\n"
     ]
    }
   ],
   "source": [
    "#arr is created from the example above. \n",
    "print (arr)\n"
   ]
  },
  {
   "cell_type": "code",
   "execution_count": 41,
   "metadata": {},
   "outputs": [
    {
     "data": {
      "text/plain": [
       "array([[ 1,  0,  2],\n",
       "       [13, 12, 14],\n",
       "       [16, 15, 17],\n",
       "       [10,  9, 11],\n",
       "       [ 4,  3,  5],\n",
       "       [ 7,  6,  8]])"
      ]
     },
     "execution_count": 41,
     "metadata": {},
     "output_type": "execute_result"
    }
   ],
   "source": [
    "#demonstrates the usage of permutation.\n",
    "rng.permutation(arr)"
   ]
  },
  {
   "cell_type": "code",
   "execution_count": 42,
   "metadata": {},
   "outputs": [
    {
     "name": "stdout",
     "output_type": "stream",
     "text": [
      "[[ 0  1  2]\n",
      " [ 3  4  5]\n",
      " [ 6  7  8]\n",
      " [ 9 10 11]\n",
      " [12 13 14]\n",
      " [15 16 17]]\n"
     ]
    }
   ],
   "source": [
    "#Create original array\n",
    "arr= np.arange(18). reshape((6,3))\n",
    "print (arr)"
   ]
  },
  {
   "cell_type": "code",
   "execution_count": 43,
   "metadata": {},
   "outputs": [
    {
     "data": {
      "text/plain": [
       "array([[ 6,  7,  8],\n",
       "       [ 3,  4,  5],\n",
       "       [ 9, 10, 11],\n",
       "       [15, 16, 17],\n",
       "       [ 0,  1,  2],\n",
       "       [12, 13, 14]])"
      ]
     },
     "execution_count": 43,
     "metadata": {},
     "output_type": "execute_result"
    }
   ],
   "source": [
    "#Demonstrate permutation on axis 0\n",
    "rng.permutation (arr)"
   ]
  },
  {
   "cell_type": "code",
   "execution_count": 44,
   "metadata": {},
   "outputs": [
    {
     "data": {
      "text/plain": [
       "array([[ 2,  0,  1],\n",
       "       [ 5,  3,  4],\n",
       "       [ 8,  6,  7],\n",
       "       [11,  9, 10],\n",
       "       [14, 12, 13],\n",
       "       [17, 15, 16]])"
      ]
     },
     "execution_count": 44,
     "metadata": {},
     "output_type": "execute_result"
    }
   ],
   "source": [
    "#Demonstrate permutation on axis 1\n",
    "rng.permutation (arr, axis =  1)"
   ]
  },
  {
   "cell_type": "markdown",
   "metadata": {},
   "source": [
    "Note that in the example of permutation on axis 1 the positioning of the original numbers within each sub-array are the only thing that shuffled, leaving the positioning of the arrays in the overall list as it was when the object was originally created"
   ]
  },
  {
   "cell_type": "markdown",
   "metadata": {},
   "source": [
    "Numpy’s random number routines produce pseudo random numbers using combinations of a BitGenerator to create sequences and a Generator to use those sequences to sample from different statistical distributions:\n",
    "\n",
    "BitGenerators: Objects that generate random numbers. These are typically unsigned integer words filled with sequences of either 32 or 64 random bits.\n",
    "\n",
    "Generators: Objects that transform sequences of random bits from a BitGenerator into sequences of numbers that follow a specific probability distribution (such as uniform, Normal or Binomial) within a specified interval.\n",
    "\n",
    "Since Numpy version 1.17.0 the Generator can be initialized with a number of different BitGenerators. It exposes many different probability distributions. See NEP 19 for context on the updated random Numpy number routines. The legacy RandomState random number routines are still available, but limited to a single BitGenerator. See What’s New or Different for a complete list of improvements and differences from the legacy RandomState.\n",
    "\n",
    "For convenience and backward compatibility, a single RandomState instance’s methods are imported into the numpy.random namespace, see Legacy Random Generation for the complete list."
   ]
  },
  {
   "cell_type": "code",
   "execution_count": null,
   "metadata": {},
   "outputs": [],
   "source": []
  },
  {
   "cell_type": "markdown",
   "metadata": {},
   "source": [
    "# END\n",
    "***"
   ]
  },
  {
   "cell_type": "markdown",
   "metadata": {},
   "source": [
    "## References \n",
    "\n",
    "[1]: https://numpy.org/doc/stable/user/absolute_beginners.html#generating-random-numbers\n",
    "\n",
    "[2]: https://stackoverflow.com/questions/7029993/differences-between-numpy-random-and-random-random-in-python\n",
    "\n",
    "[3]: wes mckinney's book pg 120\n",
    "\n",
    "[4]: https://www.sharpsightlabs.com/blog/numpy-random-choice/\n",
    "\n",
    "[5]: https://www.analyticsvidhya.com/blog/2016/06/bayesian-statistics-beginners-simple-english/\n",
    "\n",
    "[6]: https://numpy.org/doc/stable/reference/random/generated/numpy.random.shuffle.html\n",
    "\n",
    "[7]: https://github.com/numpy/numpy/milestone/87\n",
    "\n",
    "[8]: https://numpy.org/doc/stable/reference/random/generated/numpy.random.Generator.permutation.html#numpy.random.Generator.permutation\n",
    "\n",
    "[9]: https://numpy.org/doc/stable/reference/random/generated/numpy.random.Generator.shuffle.html#numpy.random.Generator.shuffle\n",
    "\n",
    "\n",
    "\n",
    "https://www.qualtrics.com/uk/experience-management/research/simple-random-sampling/\n",
    "\n",
    "\n",
    "\n",
    "\n"
   ]
  },
  {
   "cell_type": "code",
   "execution_count": null,
   "metadata": {},
   "outputs": [],
   "source": []
  },
  {
   "cell_type": "code",
   "execution_count": null,
   "metadata": {},
   "outputs": [],
   "source": []
  },
  {
   "cell_type": "code",
   "execution_count": null,
   "metadata": {},
   "outputs": [],
   "source": []
  }
 ],
 "metadata": {
  "kernelspec": {
   "display_name": "Python 3",
   "language": "python",
   "name": "python3"
  },
  "language_info": {
   "codemirror_mode": {
    "name": "ipython",
    "version": 3
   },
   "file_extension": ".py",
   "mimetype": "text/x-python",
   "name": "python",
   "nbconvert_exporter": "python",
   "pygments_lexer": "ipython3",
   "version": "3.8.5"
  }
 },
 "nbformat": 4,
 "nbformat_minor": 4
}
