{
 "cells": [
  {
   "cell_type": "markdown",
   "metadata": {},
   "source": [
    "\" following assignment concerns the numpy.random package in Python . You are\n",
    "required to create a Jupyter notebook explaining the use of the package, including\n",
    "detailed explanations of at least five of the distributions provided for in the package.\n",
    "There are four distinct tasks to be carried out in your Jupyter notebook.\n",
    "1. Explain the overall purpose of the package.\n",
    "\n",
    "    Explained in basic what the package is used for \n",
    "    \n",
    "    \n",
    "2. Explain the use of the “Simple random data” and “Permutations” functions.\n",
    "   simple and Permutations done\n",
    "\n",
    "\n",
    "3. Explain the use and purpose of at least five “Distributions” functions.\n",
    "4. Explain the use of seeds in generating pseudorandom numbers.\"\n",
    "\n",
    "\n",
    "\n",
    "\n"
   ]
  },
  {
   "cell_type": "markdown",
   "metadata": {},
   "source": [
    "# Numpy.random package \n",
    "\n",
    "***\n",
    "\n"
   ]
  },
  {
   "cell_type": "code",
   "execution_count": 33,
   "metadata": {},
   "outputs": [],
   "source": [
    "import numpy as np\n",
    "\n",
    "from numpy.random import default_rng\n",
    "rng = default_rng()"
   ]
  },
  {
   "cell_type": "markdown",
   "metadata": {},
   "source": [
    "NumPy is an open-source package used by data scientists and is the universal standard for working with, and manipulating numerical data in Python.The NumPy API is used extensively in Pandas, SciPy, Matplotlib, scikit-learn, scikit-image and most other data science and scientific Python packages.\n",
    "\n",
    "There are a number of distinct functions within the package that perform a wide variety of high- level mathematical operations on multidimensional numerical arrays. In recent years Numpy has become particularly important for machine learning and deep learning, as these often involve large datasets of numerical data. The cleaning and reshaping of data is a large part of the workflow when dealing with these datasets and numpy can provide some excellent tools to aid in this data manipulation[1]  [4]\n",
    "\n",
    "Among these functions is the numpy.random package which can generate pseudo-random numbers. This is useful for many aspects of data analytics and machine learning projects, from randomly initialing weights in an artificial neural network, splitting data into random sets, or randomly shuffling your dataset, being able to generate random numbers (actually, repeatable pseudo-random numbers) is essential. **Random sampling is used in many tasks related to data analysis, statistics and other related fields, and is very commonly seen in probability, Bayesian statistics (“Bayesian statistics is a mathematical procedure that applies probabilities to statistical problems. It provides people the tools to update their beliefs in the evidence of new data.”), machine learning, among others  (Check this sentence out for improvements)**\n",
    "\n",
    "\n",
    "\n",
    "While python's in-built random package ```random``` can generate values, for larger arrays ```numpy.random``` is preferred as it can sample more than one value at a time. This isn't so much an issue for smaller arrays, but for larger there is a noticeably faster time differential in most cases.[3]\n",
    "\n",
    "The numpy package can also offer a few extra probability distributions, such as binomial, commonly used in scientific research, as well as a couple of convenience functions for generating arrays of random data. The random.random library is a little more lightweight, and generally not considered suitable for scientific research or other kinds of work in statistics. [2] "
   ]
  },
  {
   "cell_type": "markdown",
   "metadata": {},
   "source": [
    "\n",
    "## Simple random data\n",
    "*** \n",
    "\n",
    "\n",
    "**Simple random data in v1.21:** \n",
    "\n",
    "There a number of functions in numpy that generate random data. They all operate slightly differrently, but generally are easy and straightforward to use. As you can see below, there are 7 main functions that can be called upon from the new version of numpy. In version 1.16 there were 10 functions listed in the official documentation but some of these are now be deprecated, or removed. For this reason it is better for new code to be written using the new numpy random number generator, which will be discussed later. In area's where the generator is required, the code is shortened to ```rng```. \n",
    "\n",
    "\n",
    "**Main simple random data functions**\n",
    "- ```rand(d0, d1, …, dn)``` This returns random values in a given shape.\n",
    "\n",
    "- ```numpy.random.Generator.standard_normal (size=None, dtype=np.float64, out=None)¶``` This returns a sample (or samples) from the “standard normal”   distribution.\n",
    "\n",
    "- ```numpy.random.Generator.integers (low, high=None, size=None, dtype=np.int64, endpoint=False)``` This returns random integers from low (inclusive) to high. High can be either inclusive or exclusive depending on the parameter set in the function.\n",
    "\n",
    "- ```numpy.random.Generator.random (size=None, dtype=np.float64, out=None)``` Return random floats in the half-open interval [0.0, 1.0). The results from this are from the “continuous uniform” distribution over the interval stated in the parameter.  \n",
    "\n",
    "- ```numpy.random.Generator.choice (a, size=None, replace=True, p=None, axis=0, shuffle=True)``` Generates a random sample from a given array\n",
    "\n",
    "- ```numpy.random.Generator.bytes(length)``` Return random bytes.\n",
    "\n",
    "\n",
    "- **TO DO** numpy.random.Generator.normal\n",
    "\n",
    "### numpy.random.rand\n",
    "***\n",
    "*numpy.random.rand(d0, d1, ..., dn)*\n",
    "\n",
    " This function creates random values in a given multi-dimensional shape. Its a convenience function to aid in compatibility with the Matlab function ```random_sample``` (a function which takes in a tuple to specify output size.). ```np.random.rand``` creates an array of a shape that is given in the parameters and populates in with random numbers from 0.0(inclusive) to 1.0(exclusive). These random numbers are taken from a uniform distribution, which means every number has an equal chance of being called. If no parameter is given, ie if ```np.random.rand()``` is called then a single float integer is returned instead of an array. As the parameters are creating a shape, the dimensions of the returned array must be positive to avoid getting a ```ValueError``` message  \n",
    "\n",
    "\n",
    "\n",
    "\n",
    "\n",
    "\n",
    "       \n",
    " "
   ]
  },
  {
   "cell_type": "code",
   "execution_count": 34,
   "metadata": {},
   "outputs": [
    {
     "data": {
      "text/plain": [
       "array([[0.02092332, 0.7236177 , 0.36701943],\n",
       "       [0.3263032 , 0.33670042, 0.03893727]])"
      ]
     },
     "execution_count": 34,
     "metadata": {},
     "output_type": "execute_result"
    }
   ],
   "source": [
    "#Creating a simple 2 x 3 array\n",
    "np.random.rand(2,3)"
   ]
  },
  {
   "cell_type": "markdown",
   "metadata": {},
   "source": [
    "### numpy.random.Generator.standard_normal\n",
    "***\n",
    "\n",
    "*random.Generator.standard_normal(size=None, dtype=np.float64, out=None)*\n",
    "\n",
    "```rng.standard_normal``` is the version 1.21 function designed to replace the ```np.random.randn``` function and works in an extremely similar way but takes in single integers, or tuples, as a size parameter instead of just integers. This function draws samples from a standard normal (Gaussian) distribution, where the mean (average) is 0, and the standard deviation is 1. Standard deviation is a measure of how spread out the data is and a standard deviation of 1 means that approx 68% of numbers in a normal distribution are within this distance either side of the mean.\n",
    "\n",
    "This function takes in a number of parameters. ```Size``` takes in an integer or a tuple of integers. If none are defined, then a single value will be returned. As this function is defining a shape, only positive values are allowed.\n",
    "\n",
    "```dtype``` allows selection of either ```float32``` or ```float64``` as the result, with the default being ```np.float64```. A dtype (data type object) just informs us about the make up of the array. While float64 numbers require more storage space (taking up 64 bytes vs 32 bytes), they can represent numbers more accurately, and allow much larger numbers to be stored.\n",
    "\n",
    "```out``` allows the user to select an alternative output array in which to place the result. Its default is None and it's worth bearing in mind that if it's being used it must have the same shape as the provided size, and must match the type specified in ```dtype``` from the previous parameter.  \n",
    "\n",
    "\n",
    "\n",
    "\n"
   ]
  },
  {
   "cell_type": "code",
   "execution_count": 35,
   "metadata": {},
   "outputs": [
    {
     "data": {
      "text/plain": [
       "-0.9208689397376678"
      ]
     },
     "execution_count": 35,
     "metadata": {},
     "output_type": "execute_result"
    }
   ],
   "source": [
    "#using the function to get a single float\n",
    "rng.standard_normal()"
   ]
  },
  {
   "cell_type": "code",
   "execution_count": 36,
   "metadata": {},
   "outputs": [
    {
     "data": {
      "text/plain": [
       "array([[ 0.97316725,  0.02312026,  0.11806089, -1.30652476],\n",
       "       [ 0.06505454,  2.04591399,  0.89798207,  0.25955386]])"
      ]
     },
     "execution_count": 36,
     "metadata": {},
     "output_type": "execute_result"
    }
   ],
   "source": [
    "#using the function to create a 2 x 4 shape\n",
    "rng.standard_normal([2, 4])"
   ]
  },
  {
   "cell_type": "markdown",
   "metadata": {},
   "source": [
    "### Uniform Distributions\n",
    "***\n",
    "Before the next 2 functions, which both mention 2 different types of uniform distribution, this image is a handy guide to familiarise with the differences between the 2. \n",
    "\n",
    "It can be seen that the diffences are minor, but have an important diffence in how the next 2 functions work\n",
    "\n",
    "![](https://cdn.corporatefinanceinstitute.com/assets/uniform-distribution-1024x405.png)\n"
   ]
  },
  {
   "cell_type": "markdown",
   "metadata": {},
   "source": [
    "### numpy.random.Generator.integers\n",
    "***\n",
    "\n",
    "*numpy.random.Generator.integers(low, high=None, size=None, dtype=np.int64, endpoint = False)*\n",
    "\n",
    "This function returns random integers from low (inclusive) to high. The default on high is set at exclusive, but this can be changed by using the ```endpoint``` parameter which you can see above. By changing the endpoint to True( ```endpoint``` is a boolean parameter) then high is also inclusive. \n",
    "\n",
    "This function returns random integers from the \"discrete uniform\" distribution. This means that there is an equal proability for each of the numbers in the distribution to be picked out. As you can see above, ```low``` is set as requirement for this function to correctly run- it requires an integer, or an array of integers.\n",
    "\n",
    "However if ```high``` isn't set then the distribution is automatically set between 0 and the ```low``` number given as a parameter. This can be more clearly seen in the examples laid out below. When it is set, high requires an integer, or an array of integers. \n",
    "\n",
    "As with most of the functions we have seen so far, ```size``` is an optional parameter that sets the output shape. If it isn't specified, then a single value is returned. \n",
    "\n",
    "\n"
   ]
  },
  {
   "cell_type": "code",
   "execution_count": 37,
   "metadata": {},
   "outputs": [
    {
     "data": {
      "text/plain": [
       "array([0, 2, 1, 1, 1, 1, 1, 0, 1, 2])"
      ]
     },
     "execution_count": 37,
     "metadata": {},
     "output_type": "execute_result"
    }
   ],
   "source": [
    "#In this example, high isn't set- therefore this is only picking numbers from 0-3(exclusive)\n",
    "rng.integers(3, size=10)"
   ]
  },
  {
   "cell_type": "code",
   "execution_count": 38,
   "metadata": {},
   "outputs": [
    {
     "data": {
      "text/plain": [
       "array([ 8,  8, 10,  4, 10,  2,  9,  5,  9,  2])"
      ]
     },
     "execution_count": 38,
     "metadata": {},
     "output_type": "execute_result"
    }
   ],
   "source": [
    "#In this example, endpoint is set to true, so 10 is incuded in the distribution\n",
    "rng.integers(0,10, size=10, endpoint = True)"
   ]
  },
  {
   "cell_type": "code",
   "execution_count": 39,
   "metadata": {},
   "outputs": [
    {
     "data": {
      "text/plain": [
       "array([[6, 4, 1, 2],\n",
       "       [0, 2, 1, 2],\n",
       "       [3, 4, 0, 0]])"
      ]
     },
     "execution_count": 39,
     "metadata": {},
     "output_type": "execute_result"
    }
   ],
   "source": [
    "#This example is generating a 3 x 4 array of ints between 0 and 6, inclusive:\n",
    "\n",
    "rng.integers(7, size=(3, 4))"
   ]
  },
  {
   "cell_type": "code",
   "execution_count": 40,
   "metadata": {},
   "outputs": [
    {
     "data": {
      "text/plain": [
       "array([2, 1, 1])"
      ]
     },
     "execution_count": 40,
     "metadata": {},
     "output_type": "execute_result"
    }
   ],
   "source": [
    "#Generating a 1 x 3 array with 3 different upper bounds. \n",
    "#This means that the distribution is different for each of the 3 integers called \n",
    "# Integer 1 = 1-2, Integer 2 = 1-4, Integer 3 = 1-9\n",
    "\n",
    "rng.integers(1, [3, 5, 10])"
   ]
  },
  {
   "cell_type": "code",
   "execution_count": 41,
   "metadata": {},
   "outputs": [
    {
     "data": {
      "text/plain": [
       "array([6, 6, 9])"
      ]
     },
     "execution_count": 41,
     "metadata": {},
     "output_type": "execute_result"
    }
   ],
   "source": [
    "#Generating a 1 x 3 array with 3 different lower bounds\n",
    "\n",
    "rng.integers([1, 5, 7], 10)"
   ]
  },
  {
   "cell_type": "markdown",
   "metadata": {},
   "source": [
    "### numpy.random.Generator.random\n",
    "***\n",
    "*numpy.random.Generator.random(size=None, dtype=np.float64, out=None)*\n",
    "\n",
    "Returns random floats in the half-open interval [0.0, 1.0).\n",
    "\n",
    "*A half-open interval includes only one of its endpoints, and is denoted by mixing the notations for open and closed intervals. For example, (0,1] means greater than 0 and less than or equal to 1, while [0,1) means greater than or equal to 0 and less than 1. So in the case of this function, it can be seen that floats returned will be between 0.0 and 1(exclusive).*\n",
    "\n",
    "The results are taken from the \"continuous uniform\" distribution over the interval stated above. As with the previous functions, ```size``` will set the output shape, and if not specified, then a single value is returned. \n",
    "\n",
    "```dtype``` is defaulted to ```float64``` but can be changed to ```float32``` if required. The main reason for doing this would be to reduce the amount of memory required to perform the function as with ```float32``` only 32 bytes of memory are required per number. \n",
    "\n",
    "```out``` can specify an alternative output array. As before, if this is used, it needs to be the same shape as the ```size``` provided and must match the type of the output values. \n",
    "\n",
    "\n"
   ]
  },
  {
   "cell_type": "code",
   "execution_count": 42,
   "metadata": {},
   "outputs": [
    {
     "data": {
      "text/plain": [
       "0.37801063090555853"
      ]
     },
     "execution_count": 42,
     "metadata": {},
     "output_type": "execute_result"
    }
   ],
   "source": [
    "#Creates a single random float\n",
    "rng.random()"
   ]
  },
  {
   "cell_type": "code",
   "execution_count": 43,
   "metadata": {},
   "outputs": [
    {
     "data": {
      "text/plain": [
       "array([0.56784998, 0.75396748, 0.78719904, 0.47206681, 0.34675674])"
      ]
     },
     "execution_count": 43,
     "metadata": {},
     "output_type": "execute_result"
    }
   ],
   "source": [
    "#Creates 5 random numbers \n",
    "rng.random(5)"
   ]
  },
  {
   "cell_type": "code",
   "execution_count": 44,
   "metadata": {},
   "outputs": [
    {
     "ename": "SyntaxError",
     "evalue": "invalid syntax (<ipython-input-44-61270087d467>, line 6)",
     "output_type": "error",
     "traceback": [
      "\u001b[0;36m  File \u001b[0;32m\"<ipython-input-44-61270087d467>\"\u001b[0;36m, line \u001b[0;32m6\u001b[0m\n\u001b[0;31m    This needs explaining above!!!!\u001b[0m\n\u001b[0m         ^\u001b[0m\n\u001b[0;31mSyntaxError\u001b[0m\u001b[0;31m:\u001b[0m invalid syntax\n"
     ]
    }
   ],
   "source": [
    "#Three-by-two array of random numbers from [-5, 0):\n",
    "\n",
    "5 * rng.random((3, 2)) - 5\n",
    "\n",
    "\n",
    "This needs explaining above!!!!\n",
    "       "
   ]
  },
  {
   "cell_type": "code",
   "execution_count": null,
   "metadata": {},
   "outputs": [],
   "source": []
  },
  {
   "cell_type": "markdown",
   "metadata": {},
   "source": [
    "### numpy.random.Generator.choice\n",
    "***\n",
    "\n",
    "*numpy.random.Generator.choice(a, size=None, replace=True, p=None, axis=0, shuffle=True)*\n",
    "\n",
    "This function generates a random sample from an array/integer ```a```. If ```a``` is an array, a random sample is generated from its elements. If ```a``` is an integer the random sample is generated from ```np.arange(a)```, which produces values from 0 to ```a``` exclusive.\n",
    "```size``` creates an output shape if ```a``` has more than one dimension, the ```size``` shape will be inserted into the axis dimension. If nothing is specified, a single value is returned. \n",
    "```replace``` is a Boolean parameter that specifies whether the sample is with or without replacement. The default is True, which means that a value in the array can be selected multiple times. If ```replace``` is False, the sample size must be equal or less than the population size.\n",
    "\n",
    "```p``` is an array parameter that can specify the probabilities associated with each entry in ```a```. The size of ```a``` and ```p``` must be identical, and the value of ```p``` must add up to 1. If ```p``` is not specified the sample will assume a uniform distribution. \n",
    "\n",
    "```axis``` is optional and used with multidimensional arrays, the default is 0 and this selects by row. \n",
    "\n",
    "```shuffle``` is a boolean parameter and determines whether the sample is shuffled when sampling without replacement. The default is True.\n",
    "\n",
    "\n",
    "\n"
   ]
  },
  {
   "cell_type": "code",
   "execution_count": null,
   "metadata": {},
   "outputs": [],
   "source": [
    "#Creates a range from 0-2\n",
    "np.arange(3)"
   ]
  },
  {
   "cell_type": "code",
   "execution_count": null,
   "metadata": {},
   "outputs": [],
   "source": [
    "#Generate a uniform random sample from np.arange(5) of size 3:\n",
    "rng.choice(5, 3)"
   ]
  },
  {
   "cell_type": "code",
   "execution_count": null,
   "metadata": {},
   "outputs": [],
   "source": [
    "#Generate a non-uniform random sample from np.arange(5) of size 3:\n",
    "rng.choice(5, 3, p=[0.1, 0.3, 0.6,0, 0])"
   ]
  },
  {
   "cell_type": "code",
   "execution_count": null,
   "metadata": {},
   "outputs": [],
   "source": [
    "#Generate a uniform random sample from np.arange(5) of size 3 without replacement:\n",
    "rng.choice(5, 3, replace=False)"
   ]
  },
  {
   "cell_type": "code",
   "execution_count": null,
   "metadata": {},
   "outputs": [],
   "source": [
    "#Generate a non-uniform random sample from np.arange(5) of size 3 without replacement:\n",
    "\n",
    "rng.choice(5, 3, replace=False, p=[0.1, 0, 0.3, 0.6, 0])"
   ]
  },
  {
   "cell_type": "code",
   "execution_count": null,
   "metadata": {},
   "outputs": [],
   "source": [
    "#Any of the above can be repeated with an arbitrary array-like instead of just integers. For instance:\n",
    "\n",
    "f1_arr = ['Lewis', 'Max', 'Lando', 'Daniel']\n",
    "rng.choice(f1_arr, 5, p=[0.5, 0.1, 0.1, 0.3])\n",
    "      "
   ]
  },
  {
   "cell_type": "markdown",
   "metadata": {},
   "source": [
    "### numpy.random.Generator.bytes¶\n",
    "***\n",
    "\n",
    "```numpy.random.Generator.bytes(length)```\n",
    "Return random bytes. The parameter denotes the number of integers required in the return. The output returns as a string. \n",
    "\n"
   ]
  },
  {
   "cell_type": "code",
   "execution_count": null,
   "metadata": {},
   "outputs": [],
   "source": [
    "# Demonstrates the ease of returning random bytes\n",
    "rng.bytes(10)"
   ]
  },
  {
   "cell_type": "markdown",
   "metadata": {},
   "source": [
    "## Permutations\n",
    "\n",
    "The permutations functions in Numpy  consist of 2 very similar functions: ```shuffle(x)``` and ```permutation (x)```. The documentation has changed on this slightly since the 1.21 release in June 2021 and now provides functionality to manipulate the sub-arrays by calling ```axis```.\n",
    "Prior to the newest release of NumPy the method for calling these functions was through ```np.random.shuffle(x)``` or ```np.random.permutation(x)```; however since release 1.21 in June 2021 [7] the accepted method is now to import ```rng``` from the random package, and use this in the function call instead. As of October 2021 the older method of calling this function is still working, but new users should be aware that this may become deprecated in the future.   \n",
    "\n",
    "\n",
    "### Shuffle (x, axis = 0)\n",
    "***\n",
    "The shuffle function modifies an array sequence in-place by shuffling its contents. It should be noted that this function will only shuffle the first axis of a multi-dimensional array (ie an array with more than one sub-arrays) by default. Since June 2021. shuffle now uses ```axis``` as a parameter to manipulate the sub-arrays, ie if axis is set at 0 then only the first dimension of arrays will shuffle around. However if it is set to 1 or any other sub-array level, then the first level will set as they were and it is only the values in the dimension called that will move. As this can be a difficult thing to abstractly visualise, I have laid out the following examples below to help visualise the dimensions. \n",
    "\n",
    "\n",
    "\n"
   ]
  },
  {
   "cell_type": "code",
   "execution_count": 45,
   "metadata": {},
   "outputs": [
    {
     "name": "stdout",
     "output_type": "stream",
     "text": [
      "[0 1 2 3 4 5 6 7 8 9]\n"
     ]
    }
   ],
   "source": [
    "#Create a sample array from 0-9 inclusive \n",
    "arr= np.arange(10)\n",
    "print (arr)"
   ]
  },
  {
   "cell_type": "code",
   "execution_count": 46,
   "metadata": {},
   "outputs": [
    {
     "name": "stdout",
     "output_type": "stream",
     "text": [
      "[3 4 8 0 1 6 7 9 2 5]\n"
     ]
    }
   ],
   "source": [
    "#Using the random.shuffle function.\n",
    "\n",
    "rng.shuffle(arr)\n",
    "\n",
    "print (arr) "
   ]
  },
  {
   "cell_type": "code",
   "execution_count": 47,
   "metadata": {},
   "outputs": [
    {
     "name": "stdout",
     "output_type": "stream",
     "text": [
      "[[ 0  1  2]\n",
      " [ 3  4  5]\n",
      " [ 6  7  8]\n",
      " [ 9 10 11]\n",
      " [12 13 14]\n",
      " [15 16 17]]\n"
     ]
    }
   ],
   "source": [
    "#Creating a 6 x 3 array to demonstrate the axis function\n",
    "\n",
    "arr = np.arange(18).reshape((6, 3))\n",
    "\n",
    "print (arr)"
   ]
  },
  {
   "cell_type": "code",
   "execution_count": 48,
   "metadata": {},
   "outputs": [
    {
     "name": "stdout",
     "output_type": "stream",
     "text": [
      "[[12 13 14]\n",
      " [ 3  4  5]\n",
      " [ 6  7  8]\n",
      " [ 9 10 11]\n",
      " [15 16 17]\n",
      " [ 0  1  2]]\n"
     ]
    }
   ],
   "source": [
    "#As there is no axis parameter called, shuffle defaults to 0\n",
    "rng.shuffle (arr, axis = 0)\n",
    "\n",
    "print (arr)"
   ]
  },
  {
   "cell_type": "code",
   "execution_count": 49,
   "metadata": {},
   "outputs": [
    {
     "name": "stdout",
     "output_type": "stream",
     "text": [
      "[[ 0  1  2]\n",
      " [ 3  4  5]\n",
      " [ 6  7  8]\n",
      " [ 9 10 11]\n",
      " [12 13 14]\n",
      " [15 16 17]]\n"
     ]
    }
   ],
   "source": [
    "arr = np.arange(18).reshape((6, 3))\n",
    "\n",
    "print (arr)"
   ]
  },
  {
   "cell_type": "code",
   "execution_count": 50,
   "metadata": {},
   "outputs": [
    {
     "name": "stdout",
     "output_type": "stream",
     "text": [
      "[[ 0  2  1]\n",
      " [ 3  5  4]\n",
      " [ 6  8  7]\n",
      " [ 9 11 10]\n",
      " [12 14 13]\n",
      " [15 17 16]]\n"
     ]
    }
   ],
   "source": [
    "rng.shuffle (arr, axis =1)\n",
    "\n",
    "print (arr)"
   ]
  },
  {
   "cell_type": "markdown",
   "metadata": {},
   "source": [
    "### Permutation (x, axis = 0)\n",
    "***\n",
    "Is the act or process of changing the linear order of an ordered set. permutation(x) returns a random permutation of a sequence, or return a permuted range. If ```x``` is an array, it creates a copy of the original and shuffles those elements randomly. As with ```shuffle``` above, if it a multi-dimensional array then only the first dimension of the array is shuffled by default, however the use of ```axis``` will determine which array is shuffled, defaulting as axis 0. "
   ]
  },
  {
   "cell_type": "code",
   "execution_count": 51,
   "metadata": {},
   "outputs": [
    {
     "name": "stdout",
     "output_type": "stream",
     "text": [
      "[[ 0  2  1]\n",
      " [ 3  5  4]\n",
      " [ 6  8  7]\n",
      " [ 9 11 10]\n",
      " [12 14 13]\n",
      " [15 17 16]]\n"
     ]
    }
   ],
   "source": [
    "#arr is created from the example above. \n",
    "print (arr)\n"
   ]
  },
  {
   "cell_type": "code",
   "execution_count": 52,
   "metadata": {},
   "outputs": [
    {
     "data": {
      "text/plain": [
       "array([[15, 17, 16],\n",
       "       [ 6,  8,  7],\n",
       "       [ 3,  5,  4],\n",
       "       [12, 14, 13],\n",
       "       [ 0,  2,  1],\n",
       "       [ 9, 11, 10]])"
      ]
     },
     "execution_count": 52,
     "metadata": {},
     "output_type": "execute_result"
    }
   ],
   "source": [
    "#demonstrates the usage of permutation.\n",
    "rng.permutation(arr)"
   ]
  },
  {
   "cell_type": "code",
   "execution_count": 53,
   "metadata": {},
   "outputs": [
    {
     "name": "stdout",
     "output_type": "stream",
     "text": [
      "[[ 0  1  2]\n",
      " [ 3  4  5]\n",
      " [ 6  7  8]\n",
      " [ 9 10 11]\n",
      " [12 13 14]\n",
      " [15 16 17]]\n"
     ]
    }
   ],
   "source": [
    "#Create original array\n",
    "arr= np.arange(18). reshape((6,3))\n",
    "print (arr)"
   ]
  },
  {
   "cell_type": "code",
   "execution_count": 54,
   "metadata": {},
   "outputs": [
    {
     "data": {
      "text/plain": [
       "array([[ 0,  1,  2],\n",
       "       [ 9, 10, 11],\n",
       "       [15, 16, 17],\n",
       "       [ 6,  7,  8],\n",
       "       [ 3,  4,  5],\n",
       "       [12, 13, 14]])"
      ]
     },
     "execution_count": 54,
     "metadata": {},
     "output_type": "execute_result"
    }
   ],
   "source": [
    "#Demonstrate permutation on axis 0\n",
    "rng.permutation (arr)"
   ]
  },
  {
   "cell_type": "code",
   "execution_count": 55,
   "metadata": {},
   "outputs": [
    {
     "data": {
      "text/plain": [
       "array([[ 1,  0,  2],\n",
       "       [ 4,  3,  5],\n",
       "       [ 7,  6,  8],\n",
       "       [10,  9, 11],\n",
       "       [13, 12, 14],\n",
       "       [16, 15, 17]])"
      ]
     },
     "execution_count": 55,
     "metadata": {},
     "output_type": "execute_result"
    }
   ],
   "source": [
    "#Demonstrate permutation on axis 1\n",
    "rng.permutation (arr, axis =  1)"
   ]
  },
  {
   "cell_type": "markdown",
   "metadata": {},
   "source": [
    "Note that in the example of permutation on axis 1 the positioning of the original numbers within each sub-array are the only thing that shuffled, leaving the positioning of the arrays in the overall list as it was when the object was originally created"
   ]
  },
  {
   "cell_type": "markdown",
   "metadata": {},
   "source": [
    "\n",
    "## RANDOM NUMBER GENERATORS\n",
    "\n",
    "\n",
    "Numpy’s random number routines produce pseudo random numbers using combinations of a BitGenerator to create sequences and a Generator to use those sequences to sample from different statistical distributions:\n",
    "\n",
    "BitGenerators: Objects that generate random numbers. These are typically unsigned integer words filled with sequences of either 32 or 64 random bits.\n",
    "\n",
    "Generators: Objects that transform sequences of random bits from a BitGenerator into sequences of numbers that follow a specific probability distribution (such as uniform, Normal or Binomial) within a specified interval.\n",
    "\n",
    "Since Numpy version 1.17.0 the Generator can be initialized with a number of different BitGenerators. It exposes many different probability distributions. See NEP 19 for context on the updated random Numpy number routines. The legacy RandomState random number routines are still available, but limited to a single BitGenerator. See What’s New or Different for a complete list of improvements and differences from the legacy RandomState.\n",
    "\n",
    "For convenience and backward compatibility, a single RandomState instance’s methods are imported into the numpy.random namespace, see Legacy Random Generation for the complete list."
   ]
  },
  {
   "cell_type": "code",
   "execution_count": null,
   "metadata": {},
   "outputs": [],
   "source": []
  },
  {
   "cell_type": "markdown",
   "metadata": {},
   "source": [
    "# END\n",
    "***"
   ]
  },
  {
   "cell_type": "markdown",
   "metadata": {},
   "source": [
    "## References \n",
    "\n",
    "[1]: https://numpy.org/doc/stable/user/absolute_beginners.html#generating-random-numbers\n",
    "\n",
    "[2]: https://stackoverflow.com/questions/7029993/differences-between-numpy-random-and-random-random-in-python\n",
    "\n",
    "[3]: wes mckinney's book pg 120\n",
    "\n",
    "[4]: https://www.sharpsightlabs.com/blog/numpy-random-choice/\n",
    "\n",
    "[5]: https://www.analyticsvidhya.com/blog/2016/06/bayesian-statistics-beginners-simple-english/\n",
    "\n",
    "[6]: https://numpy.org/doc/stable/reference/random/generated/numpy.random.shuffle.html\n",
    "\n",
    "[7]: https://github.com/numpy/numpy/milestone/87\n",
    "\n",
    "[8]: https://numpy.org/doc/stable/reference/random/generated/numpy.random.Generator.permutation.html#numpy.random.Generator.permutation\n",
    "\n",
    "[9]: https://numpy.org/doc/stable/reference/random/generated/numpy.random.Generator.shuffle.html#numpy.random.Generator.shuffle\n",
    "\n",
    "[10]: https://en.wikipedia.org/wiki/Interval_(mathematics)\n",
    "\n",
    "[11]: https://www.mathsisfun.com/data/standard-normal-distribution.html\n",
    "\n",
    "[12]: https://stackoverflow.com/questions/43440821/the-real-difference-between-float32-and-float64#:~:text=float32%20is%20a%2032%20bit,larger%20numbers%20to%20be%20stored.\n",
    "\n",
    "https://www.qualtrics.com/uk/experience-management/research/simple-random-sampling/\n",
    "\n",
    "\n",
    "\n",
    "\n"
   ]
  },
  {
   "cell_type": "code",
   "execution_count": null,
   "metadata": {},
   "outputs": [],
   "source": []
  },
  {
   "cell_type": "code",
   "execution_count": null,
   "metadata": {},
   "outputs": [],
   "source": []
  },
  {
   "cell_type": "code",
   "execution_count": null,
   "metadata": {},
   "outputs": [],
   "source": []
  }
 ],
 "metadata": {
  "kernelspec": {
   "display_name": "Python 3",
   "language": "python",
   "name": "python3"
  },
  "language_info": {
   "codemirror_mode": {
    "name": "ipython",
    "version": 3
   },
   "file_extension": ".py",
   "mimetype": "text/x-python",
   "name": "python",
   "nbconvert_exporter": "python",
   "pygments_lexer": "ipython3",
   "version": "3.8.5"
  }
 },
 "nbformat": 4,
 "nbformat_minor": 4
}
