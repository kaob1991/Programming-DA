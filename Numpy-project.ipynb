{
 "cells": [
  {
   "cell_type": "markdown",
   "metadata": {},
   "source": [
    "\n",
    "\n",
    "\n",
    "\n",
    "\n"
   ]
  },
  {
   "cell_type": "markdown",
   "metadata": {},
   "source": [
    "# Numpy.random package \n",
    "\n",
    "***\n",
    "\n"
   ]
  },
  {
   "cell_type": "code",
   "execution_count": 1,
   "metadata": {},
   "outputs": [],
   "source": [
    "import numpy as np\n",
    "\n",
    "from numpy.random import default_rng\n",
    "rng = default_rng()"
   ]
  },
  {
   "cell_type": "markdown",
   "metadata": {},
   "source": [
    "NumPy is an open-source package used by data scientists and is the universal standard for working with, and manipulating numerical data in Python.The NumPy API is used extensively in Pandas, SciPy, Matplotlib, scikit-learn, scikit-image and most other data science and scientific Python packages.\n",
    "\n",
    "There are a number of distinct functions within the package that perform a wide variety of high- level mathematical operations on multidimensional numerical arrays. In recent years Numpy has become particularly important for machine learning and deep learning, as these often involve large datasets of numerical data. The cleaning and reshaping of data is a large part of the workflow when dealing with these datasets and numpy can provide some excellent tools to aid in this data manipulation[1]  [4]\n",
    "\n",
    "Among these functions is the numpy.random package which can generate pseudo-random numbers. This is useful for many aspects of data analytics and machine learning projects, from randomly initialing weights in an artificial neural network, splitting data into random sets, or randomly shuffling your dataset, being able to generate random numbers (actually, repeatable pseudo-random numbers) is essential. **Random sampling is used in many tasks related to data analysis, statistics and other related fields, and is very commonly seen in probability, Bayesian statistics (“Bayesian statistics is a mathematical procedure that applies probabilities to statistical problems. It provides people the tools to update their beliefs in the evidence of new data.”), machine learning, among others  (Check this sentence out for improvements)**\n",
    "\n",
    "\n",
    "\n",
    "While python's in-built random package ```random``` can generate values, for larger arrays ```numpy.random``` is preferred as it can sample more than one value at a time. This isn't so much an issue for smaller arrays, but for larger there is a noticeably faster time differential in most cases.[3]\n",
    "\n",
    "The numpy package can also offer a few extra probability distributions, such as binomial, commonly used in scientific research, as well as a couple of convenience functions for generating arrays of random data. The random.random library is a little more lightweight, and generally not considered suitable for scientific research or other kinds of work in statistics. [2] \n",
    "\n"
   ]
  },
  {
   "cell_type": "markdown",
   "metadata": {},
   "source": [
    "\n",
    "## Simple random data\n",
    "*** \n",
    "\n",
    "\n",
    "**Simple random data in v1.21:** \n",
    "\n",
    "There a number of functions in numpy that generate random data. They all operate slightly differrently, but generally are easy and straightforward to use. As you can see below, there are 7 main functions that can be called upon from the new version of numpy. In version 1.16 there were 10 functions listed in the official documentation but some of these are now be deprecated, or removed. For this reason it is better for new code to be written using the new numpy random number generator, which will be discussed later. In area's where the generator is required, the code is shortened to ```rng```. \n",
    "\n",
    "\n",
    "**Main simple random data functions**\n",
    "- ```rand(d0, d1, …, dn)``` This returns random values in a given shape.\n",
    "\n",
    "- ```numpy.random.Generator.standard_normal (size=None, dtype=np.float64, out=None)¶``` This returns a sample (or samples) from the “standard normal”   distribution.\n",
    "\n",
    "- ```numpy.random.Generator.integers (low, high=None, size=None, dtype=np.int64, endpoint=False)``` This returns random integers from low (inclusive) to high. High can be either inclusive or exclusive depending on the parameter set in the function.\n",
    "\n",
    "- ```numpy.random.Generator.random (size=None, dtype=np.float64, out=None)``` Return random floats in the half-open interval [0.0, 1.0). The results from this are from the “continuous uniform” distribution over the interval stated in the parameter.  \n",
    "\n",
    "- ```numpy.random.Generator.choice (a, size=None, replace=True, p=None, axis=0, shuffle=True)``` Generates a random sample from a given array\n",
    "\n",
    "- ```numpy.random.Generator.bytes(length)``` Return random bytes.\n",
    "\n",
    "\n",
    "- ```numpy.random.Generator.normal(loc=0.0, scale=1.0, size=None)``` This function draws random samples from a normal (Gaussian) distribution.\n",
    "\n",
    "\n",
    "\n",
    "### numpy.random.rand\n",
    "***\n",
    "*numpy.random.rand(d0, d1, ..., dn)*\n",
    "\n",
    " This function creates random values in a given multi-dimensional shape. Its a convenience function to aid in compatibility with the Matlab function ```random_sample``` (a function which takes in a tuple to specify output size.). ```np.random.rand``` creates an array of a shape that is given in the parameters and populates in with random numbers from 0.0(inclusive) to 1.0(exclusive). These random numbers are taken from a uniform distribution, which means every number has an equal chance of being called. If no parameter is given, ie if ```np.random.rand()``` is called then a single float integer is returned instead of an array. As the parameters are creating a shape, the dimensions of the returned array must be positive to avoid getting a ```ValueError``` message  \n",
    "\n",
    "\n",
    "\n",
    "\n",
    "\n",
    "\n",
    "       \n",
    " "
   ]
  },
  {
   "cell_type": "code",
   "execution_count": 2,
   "metadata": {},
   "outputs": [
    {
     "data": {
      "text/plain": [
       "array([[0.27759429, 0.68723858, 0.40191406],\n",
       "       [0.23652731, 0.33918059, 0.28261622]])"
      ]
     },
     "execution_count": 2,
     "metadata": {},
     "output_type": "execute_result"
    }
   ],
   "source": [
    "#Creating a simple 2 x 3 array\n",
    "np.random.rand(2,3)"
   ]
  },
  {
   "cell_type": "markdown",
   "metadata": {},
   "source": [
    "### numpy.random.Generator.standard_normal\n",
    "***\n",
    "\n",
    "*random.Generator.standard_normal(size=None, dtype=np.float64, out=None)*\n",
    "\n",
    "```rng.standard_normal``` is the version 1.21 function designed to replace the ```np.random.randn``` function and works in an extremely similar way but takes in single integers, or tuples, as a size parameter instead of just integers. This function draws samples from a standard normal (Gaussian) distribution, where the mean (average) is 0, and the standard deviation is 1. Standard deviation is a measure of how spread out the data is and a standard deviation of 1 means that approx 68% of numbers in a normal distribution are within this distance either side of the mean.\n",
    "\n",
    "This function takes in a number of parameters. ```Size``` takes in an integer or a tuple of integers. If none are defined, then a single value will be returned. As this function is defining a shape, only positive values are allowed.\n",
    "\n",
    "```dtype``` allows selection of either ```float32``` or ```float64``` as the result, with the default being ```np.float64```. A dtype (data type object) just informs us about the make up of the array. While float64 numbers require more storage space (taking up 64 bytes vs 32 bytes), they can represent numbers more accurately, and allow much larger numbers to be stored.\n",
    "\n",
    "```out``` allows the user to select an alternative output array in which to place the result. Its default is None and it's worth bearing in mind that if it's being used it must have the same shape as the provided size, and must match the type specified in ```dtype``` from the previous parameter.  \n",
    "\n",
    "\n",
    "\n",
    "\n"
   ]
  },
  {
   "cell_type": "code",
   "execution_count": 3,
   "metadata": {},
   "outputs": [
    {
     "data": {
      "text/plain": [
       "0.34034683136575383"
      ]
     },
     "execution_count": 3,
     "metadata": {},
     "output_type": "execute_result"
    }
   ],
   "source": [
    "#using the function to get a single float\n",
    "rng.standard_normal()"
   ]
  },
  {
   "cell_type": "code",
   "execution_count": 4,
   "metadata": {},
   "outputs": [
    {
     "data": {
      "text/plain": [
       "array([[-1.81551641,  2.90005445,  0.40539043,  0.75257093],\n",
       "       [-1.13532661,  0.6878611 ,  1.47484708,  0.40291844]])"
      ]
     },
     "execution_count": 4,
     "metadata": {},
     "output_type": "execute_result"
    }
   ],
   "source": [
    "#using the function to create a 2 x 4 shape\n",
    "rng.standard_normal([2, 4])"
   ]
  },
  {
   "cell_type": "markdown",
   "metadata": {},
   "source": [
    "### Uniform Distributions\n",
    "***\n",
    "Before the next 2 functions, which both mention 2 different types of uniform distribution, this image is a handy guide to familiarise with the differences between the 2. \n",
    "\n",
    "It can be seen that the diffences are minor, but have an important diffence in how the next 2 functions work\n",
    "\n",
    "![](https://cdn.corporatefinanceinstitute.com/assets/uniform-distribution-1024x405.png)\n"
   ]
  },
  {
   "cell_type": "markdown",
   "metadata": {},
   "source": [
    "### numpy.random.Generator.integers\n",
    "***\n",
    "\n",
    "*numpy.random.Generator.integers(low, high=None, size=None, dtype=np.int64, endpoint = False)*\n",
    "\n",
    "This function returns random integers from low (inclusive) to high. The default on high is set at exclusive, but this can be changed by using the ```endpoint``` parameter which you can see above. By changing the endpoint to True( ```endpoint``` is a boolean parameter) then high is also inclusive. \n",
    "\n",
    "This function returns random integers from the \"discrete uniform\" distribution. This means that there is an equal proability for each of the numbers in the distribution to be picked out. As you can see above, ```low``` is set as requirement for this function to correctly run- it requires an integer, or an array of integers.\n",
    "\n",
    "However if ```high``` isn't set then the distribution is automatically set between 0 and the ```low``` number given as a parameter. This can be more clearly seen in the examples laid out below. When it is set, high requires an integer, or an array of integers. \n",
    "\n",
    "As with most of the functions seen so far, ```size``` is an optional parameter that sets the output shape. If it isn't specified, then a single value is returned. \n",
    "\n",
    "\n"
   ]
  },
  {
   "cell_type": "code",
   "execution_count": 5,
   "metadata": {},
   "outputs": [
    {
     "data": {
      "text/plain": [
       "array([2, 2, 1, 1, 1, 0, 0, 0, 1, 0])"
      ]
     },
     "execution_count": 5,
     "metadata": {},
     "output_type": "execute_result"
    }
   ],
   "source": [
    "#In this example, high isn't set- therefore this is only picking numbers from 0-3(exclusive)\n",
    "rng.integers(3, size=10)"
   ]
  },
  {
   "cell_type": "code",
   "execution_count": 6,
   "metadata": {},
   "outputs": [
    {
     "data": {
      "text/plain": [
       "array([ 6,  1,  6,  9,  0,  2, 10,  7,  7,  4])"
      ]
     },
     "execution_count": 6,
     "metadata": {},
     "output_type": "execute_result"
    }
   ],
   "source": [
    "#In this example, endpoint is set to true, so 10 is incuded in the distribution\n",
    "rng.integers(0,10, size=10, endpoint = True)"
   ]
  },
  {
   "cell_type": "code",
   "execution_count": 7,
   "metadata": {},
   "outputs": [
    {
     "data": {
      "text/plain": [
       "array([[1, 3, 5, 0],\n",
       "       [0, 5, 6, 1],\n",
       "       [3, 6, 6, 4]])"
      ]
     },
     "execution_count": 7,
     "metadata": {},
     "output_type": "execute_result"
    }
   ],
   "source": [
    "#This example is generating a 3 x 4 array of ints between 0 and 6, inclusive:\n",
    "\n",
    "rng.integers(7, size=(3, 4))"
   ]
  },
  {
   "cell_type": "code",
   "execution_count": 8,
   "metadata": {},
   "outputs": [
    {
     "data": {
      "text/plain": [
       "array([2, 4, 2])"
      ]
     },
     "execution_count": 8,
     "metadata": {},
     "output_type": "execute_result"
    }
   ],
   "source": [
    "#Generating a 1 x 3 array with 3 different upper bounds. \n",
    "#This means that the distribution is different for each of the 3 integers called \n",
    "# Integer 1 = 1-2, Integer 2 = 1-4, Integer 3 = 1-9\n",
    "\n",
    "rng.integers(1, [3, 5, 10])"
   ]
  },
  {
   "cell_type": "code",
   "execution_count": 9,
   "metadata": {},
   "outputs": [
    {
     "data": {
      "text/plain": [
       "array([3, 7, 9])"
      ]
     },
     "execution_count": 9,
     "metadata": {},
     "output_type": "execute_result"
    }
   ],
   "source": [
    "#Generating a 1 x 3 array with 3 different lower bounds\n",
    "\n",
    "rng.integers([1, 5, 7], 10)"
   ]
  },
  {
   "cell_type": "markdown",
   "metadata": {},
   "source": [
    "### numpy.random.Generator.random\n",
    "***\n",
    "*numpy.random.Generator.random(size=None, dtype=np.float64, out=None)*\n",
    "\n",
    "Returns random floats in the half-open interval [0.0, 1.0).\n",
    "\n",
    "*A half-open interval includes only one of its endpoints, and is denoted by mixing the notations for open and closed intervals. For example, (0,1] means greater than 0 and less than or equal to 1, while [0,1) means greater than or equal to 0 and less than 1. So in the case of this function, it can be seen that floats returned will be between 0.0 and 1(exclusive).*\n",
    "\n",
    "The results are taken from the \"continuous uniform\" distribution over the interval stated above. As with the previous functions, ```size``` will set the output shape, and if not specified, then a single value is returned. \n",
    "\n",
    "```dtype``` is defaulted to ```float64``` but can be changed to ```float32``` if required. The main reason for doing this would be to reduce the amount of memory required to perform the function as with ```float32``` only 32 bytes of memory are required per number. \n",
    "\n",
    "```out``` can specify an alternative output array. As before, if this is used, it needs to be the same shape as the ```size``` provided and must match the type of the output values. \n",
    "\n",
    "\n"
   ]
  },
  {
   "cell_type": "code",
   "execution_count": 10,
   "metadata": {},
   "outputs": [
    {
     "data": {
      "text/plain": [
       "0.02469511069362218"
      ]
     },
     "execution_count": 10,
     "metadata": {},
     "output_type": "execute_result"
    }
   ],
   "source": [
    "#Creates a single random float\n",
    "rng.random()"
   ]
  },
  {
   "cell_type": "code",
   "execution_count": 11,
   "metadata": {},
   "outputs": [
    {
     "data": {
      "text/plain": [
       "array([0.78009267, 0.01511721, 0.79915082, 0.50594642, 0.52067963])"
      ]
     },
     "execution_count": 11,
     "metadata": {},
     "output_type": "execute_result"
    }
   ],
   "source": [
    "#Creates 5 random numbers \n",
    "rng.random(5)"
   ]
  },
  {
   "cell_type": "code",
   "execution_count": 12,
   "metadata": {},
   "outputs": [
    {
     "data": {
      "text/plain": [
       "array([[-4.70523932, -4.61911795],\n",
       "       [-1.89219343, -1.87317482],\n",
       "       [-0.44078489, -3.61076992]])"
      ]
     },
     "execution_count": 12,
     "metadata": {},
     "output_type": "execute_result"
    }
   ],
   "source": [
    "#Three-by-two array of random numbers from [-5, 0):\n",
    "\n",
    "5 * rng.random((3, 2)) - 5\n",
    "\n",
    "\n",
    "# This needs explaining above!!!!\n",
    "       "
   ]
  },
  {
   "cell_type": "markdown",
   "metadata": {},
   "source": [
    "### numpy.random.Generator.choice\n",
    "***\n",
    "\n",
    "*numpy.random.Generator.choice(a, size=None, replace=True, p=None, axis=0, shuffle=True)*\n",
    "\n",
    "This function generates a random sample from an array/integer ```a```. If ```a``` is an array, a random sample is generated from its elements. If ```a``` is an integer the random sample is generated from ```np.arange(a)```, which produces values from 0 to ```a``` exclusive.\n",
    "```size``` creates an output shape if ```a``` has more than one dimension, the ```size``` shape will be inserted into the axis dimension. If nothing is specified, a single value is returned. \n",
    "```replace``` is a Boolean parameter that specifies whether the sample is with or without replacement. The default is True, which means that a value in the array can be selected multiple times. If ```replace``` is False, the sample size must be equal or less than the population size.\n",
    "\n",
    "```p``` is an array parameter that can specify the probabilities associated with each entry in ```a```. The size of ```a``` and ```p``` must be identical, and the value of ```p``` must add up to 1. If ```p``` is not specified the sample will assume a uniform distribution. \n",
    "\n",
    "```axis``` is optional and used with multidimensional arrays, the default is 0 and this selects by row. \n",
    "\n",
    "```shuffle``` is a boolean parameter and determines whether the sample is shuffled when sampling without replacement. The default is True.\n",
    "\n",
    "\n",
    "\n"
   ]
  },
  {
   "cell_type": "code",
   "execution_count": 13,
   "metadata": {},
   "outputs": [
    {
     "data": {
      "text/plain": [
       "array([0, 1, 2])"
      ]
     },
     "execution_count": 13,
     "metadata": {},
     "output_type": "execute_result"
    }
   ],
   "source": [
    "#Creates a range from 0-2\n",
    "np.arange(3)"
   ]
  },
  {
   "cell_type": "code",
   "execution_count": 14,
   "metadata": {},
   "outputs": [
    {
     "data": {
      "text/plain": [
       "array([2, 1, 2])"
      ]
     },
     "execution_count": 14,
     "metadata": {},
     "output_type": "execute_result"
    }
   ],
   "source": [
    "#Generate a uniform random sample from np.arange(5) of size 3:\n",
    "rng.choice(5, 3)"
   ]
  },
  {
   "cell_type": "code",
   "execution_count": 15,
   "metadata": {},
   "outputs": [
    {
     "data": {
      "text/plain": [
       "array([1, 1, 2])"
      ]
     },
     "execution_count": 15,
     "metadata": {},
     "output_type": "execute_result"
    }
   ],
   "source": [
    "#Generate a non-uniform random sample from np.arange(5) of size 3:\n",
    "rng.choice(5, 3, p=[0.1, 0.3, 0.6,0, 0])"
   ]
  },
  {
   "cell_type": "code",
   "execution_count": 16,
   "metadata": {},
   "outputs": [
    {
     "data": {
      "text/plain": [
       "array([0, 1, 2])"
      ]
     },
     "execution_count": 16,
     "metadata": {},
     "output_type": "execute_result"
    }
   ],
   "source": [
    "#Generate a uniform random sample from np.arange(5) of size 3 without replacement:\n",
    "rng.choice(5, 3, replace=False)"
   ]
  },
  {
   "cell_type": "code",
   "execution_count": 17,
   "metadata": {},
   "outputs": [
    {
     "data": {
      "text/plain": [
       "array([2, 3, 0])"
      ]
     },
     "execution_count": 17,
     "metadata": {},
     "output_type": "execute_result"
    }
   ],
   "source": [
    "#Generate a non-uniform random sample from np.arange(5) of size 3 without replacement:\n",
    "\n",
    "rng.choice(5, 3, replace=False, p=[0.1, 0, 0.3, 0.6, 0])"
   ]
  },
  {
   "cell_type": "code",
   "execution_count": 18,
   "metadata": {},
   "outputs": [
    {
     "data": {
      "text/plain": [
       "array(['Daniel', 'Lewis', 'Daniel', 'Lewis', 'Daniel'], dtype='<U6')"
      ]
     },
     "execution_count": 18,
     "metadata": {},
     "output_type": "execute_result"
    }
   ],
   "source": [
    "#Any of the above can be repeated with an arbitrary array-like instead of just integers. For instance:\n",
    "\n",
    "f1_arr = ['Lewis', 'Max', 'Lando', 'Daniel']\n",
    "rng.choice(f1_arr, 5, p=[0.5, 0.1, 0.1, 0.3])\n",
    "      "
   ]
  },
  {
   "cell_type": "markdown",
   "metadata": {},
   "source": [
    "### numpy.random.Generator.bytes¶\n",
    "***\n",
    "\n",
    "```numpy.random.Generator.bytes(length)```\n",
    "This returns random bytes. The parameter denotes the number of integers required in the return. The output returns as a string. \n",
    "\n"
   ]
  },
  {
   "cell_type": "code",
   "execution_count": 19,
   "metadata": {},
   "outputs": [
    {
     "data": {
      "text/plain": [
       "b'\\xc3l\\xc2\\xc5\\xc4&\\xd3\\xc6\\xee\\xbe'"
      ]
     },
     "execution_count": 19,
     "metadata": {},
     "output_type": "execute_result"
    }
   ],
   "source": [
    "# Demonstrates the ease of returning random bytes\n",
    "rng.bytes(10)"
   ]
  },
  {
   "cell_type": "markdown",
   "metadata": {},
   "source": [
    "### numpy.random.Generator.normal [1]\n",
    "***\n",
    "\n",
    "```random.Generator.normal(loc=0.0, scale=1.0, size=None)```\n",
    "<br>\n",
    "This function draws random samples from a normal (Gaussian) distribution. The normal distribution, is often called a bell curve because of its characteristic shape:\n",
    "\n",
    "![](https://encrypted-tbn0.gstatic.com/images?q=tbn:ANd9GcTp8eQDwACOAeVile76rf50v55udjRwBuz0wQ&usqp=CAU)\n",
    "\n",
    "Normal distributions occurs often in nature. Any time something you measure is made up of a whole bunch of contributions from smaller parts being added up, you are likely to end up with a normal distribution.[2]\n",
    "<br>\n",
    "The parameters for this function are ```loc```, which can be a float or an array of floats. This determines the mean, or centre, of the distribution. Mu is the commonly used term to denote this in data sciences and statistics.\n",
    "<br>\n",
    "```scale``` will set the standard deviation, ie the spread, or width, of the distribution. As this is determining the width of the distribution it must be a postive float, or array of floats. Sigma is commonly used in statistics and data sciences to denote standard deviation. \n",
    "<br>\n",
    "The final parameter is size, this is an integer, or a tuple of integers. This parameter is set as None by default, so if this isn't set, a single value is returned.\n",
    "<br>\n",
    "This function then returns drawn samples from the normal distribution set by the user.\n",
    "\n",
    "\n",
    "\n",
    "\n",
    "[1]: https://numpy.org/doc/stable/reference/random/generated/numpy.random.Generator.normal.html\n",
    "[2]: https://towardsdatascience.com/why-is-the-normal-distribution-so-normal-e644b0a50587"
   ]
  },
  {
   "cell_type": "code",
   "execution_count": 20,
   "metadata": {},
   "outputs": [
    {
     "data": {
      "text/plain": [
       "array([ 0.21846819,  0.11752384, -0.24078742, -0.02336529,  0.12101545,\n",
       "        0.15773566, -0.04257002,  0.05370617,  0.12772487, -0.01719902])"
      ]
     },
     "execution_count": 20,
     "metadata": {},
     "output_type": "execute_result"
    }
   ],
   "source": [
    "# mu sets mean \n",
    "mu = 0 \n",
    "# sigma sets Standard deviation\n",
    "sigma = 0.1\n",
    "# This returns a normal distribution using the variables above, with 10 floats in an array\n",
    "example = rng.normal(mu, sigma, 10) \n",
    "example"
   ]
  },
  {
   "cell_type": "code",
   "execution_count": 21,
   "metadata": {},
   "outputs": [
    {
     "data": {
      "text/plain": [
       "array([[ 1.55193313,  4.4266137 ,  3.60001579,  2.93345869],\n",
       "       [-1.22459564, -3.18690437,  4.83305946, -0.35703008]])"
      ]
     },
     "execution_count": 21,
     "metadata": {},
     "output_type": "execute_result"
    }
   ],
   "source": [
    "# This returns a normal distribution, with a mean of 3 and 2.5 SD's.\n",
    "# It returns an array of 2 sub-arrays, with 4 elements in each of these arrays. \n",
    "\n",
    "rng.normal(3, 2.5, size=(2, 4))"
   ]
  },
  {
   "cell_type": "markdown",
   "metadata": {},
   "source": [
    "# Permutations\n",
    "\n",
    "The permutations functions in Numpy  consist of 2 very similar functions: ```shuffle(x)``` and ```permutation (x)```. The documentation has changed on this slightly since the 1.21 release in June 2021 and now provides functionality to manipulate the sub-arrays by calling ```axis```.\n",
    "Prior to the newest release of NumPy the method for calling these functions was through ```np.random.shuffle(x)``` or ```np.random.permutation(x)```; however since release 1.21 in June 2021 [7] the accepted method is now to import ```rng``` from the random package, and use this in the function call instead. As of October 2021 the older method of calling this function is still working, but new users should be aware that this may become deprecated in the future.   \n",
    "\n",
    "\n",
    "### Shuffle (x, axis = 0)\n",
    "***\n",
    "The shuffle function modifies an array sequence in-place by shuffling its contents. It should be noted that this function will only shuffle the first axis of a multi-dimensional array (ie an array with more than one sub-arrays) by default. Since June 2021, shuffle now uses ```axis``` as a parameter to manipulate the sub-arrays, ie if axis is set at 0 then only the first dimension of arrays will shuffle around. However if it is set to 1 or any other sub-array level, then the first level will set as they were and it is only the values in the dimension called that will move. As this can be a difficult thing to abstractly visualise, following examples below may help visualise the dimensions. \n",
    "\n",
    "\n",
    "\n"
   ]
  },
  {
   "cell_type": "code",
   "execution_count": 22,
   "metadata": {},
   "outputs": [
    {
     "name": "stdout",
     "output_type": "stream",
     "text": [
      "[0 1 2 3 4 5 6 7 8 9]\n"
     ]
    }
   ],
   "source": [
    "#Create a sample array from 0-9 inclusive \n",
    "arr= np.arange(10)\n",
    "print (arr)"
   ]
  },
  {
   "cell_type": "code",
   "execution_count": 23,
   "metadata": {},
   "outputs": [
    {
     "name": "stdout",
     "output_type": "stream",
     "text": [
      "[1 2 7 3 5 4 9 8 6 0]\n"
     ]
    }
   ],
   "source": [
    "#Using the random.shuffle function.\n",
    "\n",
    "rng.shuffle(arr)\n",
    "\n",
    "print (arr) "
   ]
  },
  {
   "cell_type": "code",
   "execution_count": 24,
   "metadata": {},
   "outputs": [
    {
     "name": "stdout",
     "output_type": "stream",
     "text": [
      "[[ 0  1  2]\n",
      " [ 3  4  5]\n",
      " [ 6  7  8]\n",
      " [ 9 10 11]\n",
      " [12 13 14]\n",
      " [15 16 17]]\n"
     ]
    }
   ],
   "source": [
    "#Creating a 6 x 3 array to demonstrate the axis function\n",
    "\n",
    "arr = np.arange(18).reshape((6, 3))\n",
    "\n",
    "print (arr)"
   ]
  },
  {
   "cell_type": "code",
   "execution_count": 25,
   "metadata": {},
   "outputs": [
    {
     "name": "stdout",
     "output_type": "stream",
     "text": [
      "[[15 16 17]\n",
      " [ 9 10 11]\n",
      " [ 0  1  2]\n",
      " [12 13 14]\n",
      " [ 6  7  8]\n",
      " [ 3  4  5]]\n"
     ]
    }
   ],
   "source": [
    "#As there is no axis parameter called, shuffle defaults to 0\n",
    "rng.shuffle (arr, axis = 0)\n",
    "\n",
    "print (arr)"
   ]
  },
  {
   "cell_type": "code",
   "execution_count": 26,
   "metadata": {},
   "outputs": [
    {
     "name": "stdout",
     "output_type": "stream",
     "text": [
      "[[ 0  1  2]\n",
      " [ 3  4  5]\n",
      " [ 6  7  8]\n",
      " [ 9 10 11]\n",
      " [12 13 14]\n",
      " [15 16 17]]\n"
     ]
    }
   ],
   "source": [
    "arr = np.arange(18).reshape((6, 3))\n",
    "\n",
    "print (arr)"
   ]
  },
  {
   "cell_type": "code",
   "execution_count": 27,
   "metadata": {},
   "outputs": [
    {
     "name": "stdout",
     "output_type": "stream",
     "text": [
      "[[ 1  0  2]\n",
      " [ 4  3  5]\n",
      " [ 7  6  8]\n",
      " [10  9 11]\n",
      " [13 12 14]\n",
      " [16 15 17]]\n"
     ]
    }
   ],
   "source": [
    "rng.shuffle (arr, axis =1)\n",
    "\n",
    "print (arr)"
   ]
  },
  {
   "cell_type": "markdown",
   "metadata": {},
   "source": [
    "### Permutation (x, axis = 0)\n",
    "***\n",
    "Is the act or process of changing the linear order of an ordered set. permutation(x) returns a random permutation of a sequence, or return a permuted range. If ```x``` is an array, it creates a copy of the original and shuffles those elements randomly. As with ```shuffle``` above, if it a multi-dimensional array then only the first dimension of the array is shuffled by default, however the use of ```axis``` will determine which array is shuffled, defaulting as axis 0. "
   ]
  },
  {
   "cell_type": "code",
   "execution_count": 28,
   "metadata": {},
   "outputs": [
    {
     "name": "stdout",
     "output_type": "stream",
     "text": [
      "[[ 1  0  2]\n",
      " [ 4  3  5]\n",
      " [ 7  6  8]\n",
      " [10  9 11]\n",
      " [13 12 14]\n",
      " [16 15 17]]\n"
     ]
    }
   ],
   "source": [
    "#arr is created from the example above. \n",
    "print (arr)\n"
   ]
  },
  {
   "cell_type": "code",
   "execution_count": 29,
   "metadata": {},
   "outputs": [
    {
     "data": {
      "text/plain": [
       "array([[13, 12, 14],\n",
       "       [ 4,  3,  5],\n",
       "       [ 1,  0,  2],\n",
       "       [10,  9, 11],\n",
       "       [16, 15, 17],\n",
       "       [ 7,  6,  8]])"
      ]
     },
     "execution_count": 29,
     "metadata": {},
     "output_type": "execute_result"
    }
   ],
   "source": [
    "#demonstrates the usage of permutation.\n",
    "rng.permutation(arr)"
   ]
  },
  {
   "cell_type": "code",
   "execution_count": 30,
   "metadata": {},
   "outputs": [
    {
     "name": "stdout",
     "output_type": "stream",
     "text": [
      "[[ 0  1  2]\n",
      " [ 3  4  5]\n",
      " [ 6  7  8]\n",
      " [ 9 10 11]\n",
      " [12 13 14]\n",
      " [15 16 17]]\n"
     ]
    }
   ],
   "source": [
    "#Create original array\n",
    "arr= np.arange(18). reshape((6,3))\n",
    "print (arr)"
   ]
  },
  {
   "cell_type": "code",
   "execution_count": 31,
   "metadata": {},
   "outputs": [
    {
     "data": {
      "text/plain": [
       "array([[ 9, 10, 11],\n",
       "       [15, 16, 17],\n",
       "       [ 3,  4,  5],\n",
       "       [12, 13, 14],\n",
       "       [ 6,  7,  8],\n",
       "       [ 0,  1,  2]])"
      ]
     },
     "execution_count": 31,
     "metadata": {},
     "output_type": "execute_result"
    }
   ],
   "source": [
    "#Demonstrate permutation on axis 0\n",
    "rng.permutation (arr)"
   ]
  },
  {
   "cell_type": "code",
   "execution_count": 32,
   "metadata": {},
   "outputs": [
    {
     "data": {
      "text/plain": [
       "array([[ 1,  0,  2],\n",
       "       [ 4,  3,  5],\n",
       "       [ 7,  6,  8],\n",
       "       [10,  9, 11],\n",
       "       [13, 12, 14],\n",
       "       [16, 15, 17]])"
      ]
     },
     "execution_count": 32,
     "metadata": {},
     "output_type": "execute_result"
    }
   ],
   "source": [
    "#Demonstrate permutation on axis 1\n",
    "rng.permutation (arr, axis =  1)"
   ]
  },
  {
   "cell_type": "markdown",
   "metadata": {},
   "source": [
    "Note that in the example of permutation on axis 1 the positioning of the original numbers within each sub-array are the only thing that shuffled, leaving the positioning of the arrays in the overall list as it was when the object was originally created"
   ]
  },
  {
   "cell_type": "markdown",
   "metadata": {},
   "source": [
    "# Data Distributions \n",
    "***\n",
    "<br>\n",
    "Distributions are collections of data, or scores, on a variable. It is a function that shows the possible values for a variable, and how often they occur.\n",
    "\n",
    "The distribution provides a parameterized mathematical function that can be used to calculate the probability for any individual observation from the sample space. This distribution describes the grouping or the density of the observations, called the probability density function, or PDF.They can also be used to calculate the likelihood of an observation having a value equal to or lesser than a given value. A summary of these relationships between observations is called a cumulative density function, or CDF.[1]\n",
    "\n",
    "\n",
    "Many data samples conform to well-known and well-understood mathematical functions, such as the Gaussian distribution. A function can fit the data with a modification of the parameters of the function, such as the mean and standard deviation in the case of the Gaussian.\n",
    "\n",
    "Once a distribution function is known, it can be used as a shorthand for describing and calculating related quantities, such as likelihoods of observations, and plotting the relationship between observations in the domain.\n",
    "\n",
    "### Density Functions\n",
    "***\n",
    "Distributions are often described in terms of their density or density functions.These are functions that describe how the proportion of data or likelihood of the proportion of observations change over the range of the distribution.\n",
    "\n",
    "Two types of density functions are probability density functions and cumulative density functions.These are continuous functions.\n",
    "\n",
    "- **Probability Density function:** calculates the probability of observing a given value. It can also be used to summarize the likelihood of observations across the distribution’s sample space. Plots of the PDF show the familiar shape of a distribution, such as the bell-curve for the Gaussian distribution. Distributions are often defined in terms of their probability density functions with their associated parameters\n",
    "\n",
    "- **Cumulative Density function:** calculates the probability of an observation equal or less than a value. Cumulative density function, or CDF, is a different way of thinking about the likelihood of observed values. The CDF calculates the cumulative likelihood for the observation and all prior observations in the sample space. It allows a user to quickly understand and comment on how much of the distribution lies before and after a given value. A CDF is often plotted as a curve from 0 to 1 for the distribution.\n",
    "\n",
    "### Probability\n",
    "The probability of an event is a number between 0 and 1, where, roughly speaking, 0 indicates impossibility of the event and 1 indicates certainty. [3]\n",
    "<br>\n",
    "Using the concept of a dice is one of the simplest ways to understand probability. It has six sides, numbered from 1 to 6. If the dice is rolled, the probability of getting 1 is one in 6, i.e. one-sixth. This is also true for the other 5 sides. The probability of getting a 7, which obviously is impossible, is 0. The distribution consists not only of the input values that can be observed, but is made up of all possible values.\n",
    "<br>\n",
    "So,in the distribution of this event - rolling a die- where the probability of getting one is 0.17, the probability of getting 2 is 0.17, and so on... all possible values have been exhausted when the sum of probabilities is equal to 1 or 100%. For all other values, the probability of occurrence is 0. This type of distribution is called a uniform distribution, where there is an even likelihood of occurance of every possible event [2]\n",
    "<br>\n",
    "\n",
    "\n",
    "**NB:It is crucial to understand that the distribution in statistics is defined by the underlying probabilities and not the graph.**\n",
    "\n",
    "[1]: https://machinelearningmastery.com/statistical-data-distributions/\n",
    "[2]: https://365datascience.com/tutorials/statistics-tutorials/distribution-in-statistics/\n",
    "[3]: https://en.wikipedia.org/wiki/Probability"
   ]
  },
  {
   "cell_type": "markdown",
   "metadata": {},
   "source": [
    "## Types of Distributions. \n",
    "\n",
    "There are, hundreds, if not thousands of named distributions. ```numpy``` version 1.21 provides an inbuilt function for approx 35 of these distributions. In this section 5 of these will be discussed and uses and examples will be provided \n",
    "\n",
    "<br>\n",
    "\n",
    "- Chi-square\n",
    "\n",
    "- Weibull\n",
    "\n",
    "- Uniform\n",
    "\n",
    "- Pareto\n",
    "\n",
    "- dirichlet/laplace"
   ]
  },
  {
   "cell_type": "markdown",
   "metadata": {},
   "source": [
    "## Chi-square (χ2)\n",
    "***"
   ]
  },
  {
   "cell_type": "code",
   "execution_count": 33,
   "metadata": {},
   "outputs": [],
   "source": [
    "import matplotlib.pyplot as plt\n",
    "from scipy.stats import chi2\n"
   ]
  },
  {
   "cell_type": "markdown",
   "metadata": {},
   "source": [
    "### Intro [1] [3]\n",
    "A chi-square (χ2) is a statistical test that measures how a model compares to actual observed data. A chi-square test is used to help determine if observed results are in line with expected results, and to rule out that observations are due to chance. It can examine the differences between categorical variables from a random sample in order to judge goodness of fit between expected and observed results. The data used in calculating a chi-square statistic must be random, raw, mutually exclusive, drawn from independent variables, and drawn from a large enough sample. For example, the results of tossing a fair coin meet these criteria.\n",
    "\n",
    "##### Uses\n",
    "\n",
    "Chi-square tests are often used in hypothesis testing. The chi-square statistic compares the size of any discrepancies between the expected results and the actual results, given the size of the sample and the number of variables in the relationship. It is appropriate to use this test when the data being analysed is from a random sample and the variable in question is a categorical variable (i.e. one that consists of selections such as type of car, race, gender, etc). These nominal variables differ by quality, and cannot be numerically ordered.\n",
    "<br> \n",
    "Since this sort of data is often collected via surveys or questionnaires, chi-square analysis is often most useful for this sort of analysis. This can be research in areas as varied as demography, psychology, consumer research or political science and economics. \n",
    "\n",
    "\n",
    "##### DF \n",
    "For these tests, degrees of freedom are utilized to determine if a certain null hypothesis can be rejected based on the total number of variables and samples within the experiment. Degrees of freedom is simply the number of independent pieces of information that went into calculating the estimate; ie the number of values that are free to vary in a data set and this is simply ***n-1***. As with any statistic, the larger the sample size, the more reliable the results. [2]\n",
    "\n",
    "\n",
    "#### Types of tests\n",
    "There are two main kinds of chi-square tests: the test of independence, which asks a question of relationship; and the goodness-of-fit test, which asks something like \"How well does the coin in my hand match a theoretically fair coin?\"\n",
    "\n",
    "\n",
    "\n",
    "##### Goodness-of-Fit:\n",
    "χ2 provides a way to test how well a sample of data matches the (known or assumed) characteristics of the larger population that the sample is intended to represent. This is known as goodness of fit. If the sample data does not fit the expected properties of the population that the study are interested in, then this sample should not be to draw conclusions about the larger population.\n",
    "<br>\n",
    "For example, consider an imaginary coin with exactly a 50/50 chance of landing heads or tails and a real coin tossed 100 times. If this coin is fair, then it will also have an equal probability of landing on either side, and the expected result of tossing the coin 100 times is that heads will come up 50 times and tails will come up 50 times. In a case like this, χ2 can tell us how well the actual results of 100 coin flips compare to the theoretical model that a fair coin will give 50/50 results. The actual toss could come up 50/50, or 60/40, or even 90/10. The farther away the actual results of the 100 tosses is from 50/50, the less good the fit of this set of tosses is to the theoretical expectation of 50/50, and that might allow a conclusion to be made that this coin is not actually a fair coin.\n",
    "\n",
    "\n",
    "\n",
    "##### Test of Independence:\n",
    "When considering student sex and course choice, a χ2 test for independence could be used. To do this test, the researcher would collect data on the two chosen variables (sex and courses picked) and then compare the frequencies at which male and female students select among the offered classes using a χ2 statistical table. If there is no relationship between sex and course selection (that is, if they are independent), then the actual frequencies at which male and female students select each offered course should be expected to be approximately equal, or conversely, the proportion of male and female students in any selected course should be approximately equal to the proportion of male and female students in the sample. A χ2 test for independence can tell us how likely it is that random chance can explain any observed difference between the actual frequencies in the data and these theoretical expectations.\n",
    "\n",
    "\n",
    "\n",
    "\n",
    "\n",
    "#### Formula \n",
    "\n",
    "\n",
    "The Formula for Chi-Square Is:\n",
    "\n",
    "\\begin{aligned}&\\chi^2_c = \\sum \\frac{(O_i - E_i)^2}{E_i} \\\\&\\textbf{where:}\\\\&c=\\text{Degrees of freedom}\\\\&O=\\text{Observed value(s)}\\\\&E=\\text{Expected value(s)}\\end{aligned} \n",
    "​\n",
    "  \n",
    "χ \n",
    "c\n",
    "2\n",
    "​\n",
    " =∑ \n",
    "E \n",
    "i\n",
    "​\n",
    " \n",
    "(O \n",
    "i\n",
    "​\n",
    " −E \n",
    "i\n",
    "​\n",
    " ) \n",
    "2\n",
    " \n",
    "​\n",
    " \n",
    "where:\n",
    "c=Degrees of freedom\n",
    "O=Observed value(s)\n",
    "E=Expected value(s)\n",
    "​\n",
    " \n",
    "﻿\n",
    "\n",
    "\n",
    "\n",
    "\n",
    "\n",
    "[1]: https://www.investopedia.com/terms/c/chi-square-statistic.asp\n",
    "\n",
    "[2]: https://www.statisticshowto.com/probability-and-statistics/hypothesis-testing/degrees-of-freedom/\n",
    "\n",
    "[3]: https://www.statisticshowto.com/probability-and-statistics/chi-square/\n",
    "\n",
    "### numpy \n",
    "***\n",
    "```random.Generator.chisquare(df, size=None)```\n",
    "\n",
    "Draws samples from a chi-square distribution. The parameters in this instance are ```df``` which is the number of degrees of freedom (this must be greater than 0); and ```size``` which determines the output shape. If size is none then a single value is returned. If df <= 0 or an inappropriate size (ie -1) then ```ValueError``` will be raised. \n",
    "\n",
    "When df independent random variables, each with standard normal distributions (mean 0, variance 1), are squared and summed, the resulting distribution is chi-square.\n",
    "\n",
    "Below is an example of 4 samples from a chi- square distribution with 2 degrees of freedom:"
   ]
  },
  {
   "cell_type": "code",
   "execution_count": 34,
   "metadata": {},
   "outputs": [
    {
     "data": {
      "text/plain": [
       "array([0.79159854, 1.58926553, 2.86392383, 1.1494233 ])"
      ]
     },
     "execution_count": 34,
     "metadata": {},
     "output_type": "execute_result"
    }
   ],
   "source": [
    "rng.chisquare(2,4)"
   ]
  },
  {
   "cell_type": "markdown",
   "metadata": {},
   "source": [
    "### Visual representation of chi- square plot [1]\n",
    "\n",
    "The example below uses ```matplotlib``` and ```scipy``` to create a visual representation of a chi-square plot. The details are commented below. It can be seen how quick and simple it is to create this visual representation using just 2 lines of code. \n",
    "\n",
    "[1]: https://www.statology.org/plot-chi-square-distribution-python/"
   ]
  },
  {
   "cell_type": "code",
   "execution_count": 35,
   "metadata": {},
   "outputs": [
    {
     "data": {
      "text/plain": [
       "[<matplotlib.lines.Line2D at 0x7d1b005ca250>]"
      ]
     },
     "execution_count": 35,
     "metadata": {},
     "output_type": "execute_result"
    },
    {
     "data": {
      "image/png": "[encoded data removed]",
      "text/plain": [
       "<Figure size 432x288 with 1 Axes>"
      ]
     },
     "metadata": {
      "needs_background": "light"
     },
     "output_type": "display_data"
    }
   ],
   "source": [
    "# Creates an x-axis with range from 0 to 20 with 1 step\n",
    "x = np.arange(0, 100, 1)\n",
    "\n",
    "# This plots a Chi-square distribution with 10 degrees of freedom\n",
    "plt.plot(x, chi2.pdf(x, df=10))"
   ]
  },
  {
   "cell_type": "markdown",
   "metadata": {},
   "source": [
    "## Weibull distribution \n",
    "\n",
    "***\n",
    "### Intro\n",
    "The Weibull distribution is a continuous probability distribution named after Swedish mathematician Waloddi Weibull. He originally proposed the distribution as a model for material breaking strength, but recognized the potential of the distribution in his 1951 paper *'A Statistical Distribution Function of Wide Applicability'*. However this distribution had been in use for decades prior by mathematicians, uncluding being used for modelling particle sizes in 1933. [3] \n",
    "\n",
    "\n",
    "Today, it’s commonly used to assess product reliability, analyze life data and model failure times. For example, the Weibull distribution can be used to study: \n",
    "\n",
    "- The lifelimes of medical implants\n",
    "- Factory- produced components such as bearings or capacitors\n",
    "- Failure prediction for many industries\n",
    "- Warranty analysis\n",
    "- Utility servicing\n",
    "- Quality control\n",
    "- Capability analysis\n",
    "\n",
    "The Weibull can also fit a wide range of data from many other fields, including: biology, economics, engineering sciences, and hydrology. The analysis isn’t limited to production; it is applicable to the design stage and in-service time as well. In the past, the techniques to perform Weibull analysis by hand were tedious and lengthy. The process has now been replaced by statistical software programs and is the most widely used technique for analyzing lifetimes data in the world today.\n",
    "\n",
    "One of the major advantages to using Weibull analysis is that it can be used for analyzing lifetimes with very small samples. It also produces an easy-to-understand plot.\n",
    "\n",
    "\n",
    "The horizontal axis on a Weibull plot shows lifetimes or aging parameters like mileage, operating times, or cycles of use. The vertical axis shows cumulative (additive total) percentage failures.\n",
    "\n",
    "\n",
    "\n",
    "it should be noted that although it can extremely useful in most cases, the Weibull isn’t an appropriate model for every situation, and sometimes other distributions can be better suited.\n",
    "\n",
    "\n",
    "## Weibull Distribution PDFs\n",
    "***\n",
    "This distribution is unusually versatile continuous probability distribution that can fit an extensive range of distribution shapes. Like the normal distribution, the Weibull distribution describes the probabilities associated with continuous data. However, unlike the normal distribution, it can also model skewed data. In fact, its extreme flexibility allows it to model both left- and right-skewed data.\n",
    "\n",
    "\n",
    " There are two versions of the Weibull probability density function (pdf) in common use: the two parameter pdf and the three parameter pdf. The three-parameter Weibull distribution, unsurprisingly, has three parameters, shape, scale, and threshold. When analysts set the threshold parameter to zero, it is known as the two-parameter Weibull distribution. The two parameter Weibull is used in failure analysis, because no failure can occur before time zero. \n",
    "\n",
    " \n",
    "\n",
    "\n",
    "### Weibull Threshold Parameter (γ)\n",
    "***\n",
    "The threshold parameter defines the lowest possible value in a Weibull distribution. Some analysts refer to this parameter as the location. All values must be greater than the threshold. Consequently, negative threshold values let the distribution handle both negative and positive values. Zero allows it to contain only positive values. A two-parameter Weibull distribution simply has the threshold set to zero. Statisticians denote the threshold parameter with γ.\n",
    "\n",
    "When you hold the shape and scale parameters constant, the threshold shifts the distribution left and right as can be seen below.\n",
    "\n",
    "![](https://i0.wp.com/statisticsbyjim.com/wp-content/uploads/2021/08/Weibull_threshold.png?w=576&ssl=1)\n",
    "\n",
    "\n",
    "### Weibull Shape Parameter (β, k)\n",
    "Unsurprisingly, the shape parameter describes the shape of your data’s distribution. Statisticians also refer to it as the Weibull slope because its value equals the slope of the line on a probability plot. Statisticians denote the shape parameter using either beta (β) or k.\n",
    "\n",
    "There are  four key ranges of shape values for the Weibull distribution. In these probability distribution plots, The scale and threshold parameters are indentical to highlight the impact of changing the shape.\n",
    "\n",
    "- Shape < 1: Steadily decreasing values\n",
    "Graph of Weibull distribution with a shape parameter of less than 1.\n",
    "\n",
    "When the shape parameter equals 1, the Weibull distribution is equivalent to a two-parameter exponential distribution.\n",
    "\n",
    "![](https://i2.wp.com/statisticsbyjim.com/wp-content/uploads/2021/08/Weibull_shape_05.png?w=576&ssl=1)\n",
    "\n",
    "- Shape between 1 and 2.6: Right-skewed\n",
    "\n",
    "A Weibull distribution with a shape value of 2 is a Rayleigh distribution, which is equivalent to a Chi-square distribution with two degrees of freedom.\n",
    "\n",
    "![](https://i2.wp.com/statisticsbyjim.com/wp-content/uploads/2021/08/Weibull_distribution.png?w=576&ssl=1)\n",
    "\n",
    "- Shape near 3: Approximates a normal distribution.\n",
    "Weibull distribution with a shape parameter of 3.\n",
    "\n",
    "![](https://i1.wp.com/statisticsbyjim.com/wp-content/uploads/2021/08/Weibull_shape_3.png?w=576&ssl=1)\n",
    "\n",
    "\n",
    "- Shape > 3.7: Left-skewed\n",
    "Probability distribution plot of a Weibull distribution with a shape of 5.\n",
    "\n",
    "![](https://i1.wp.com/statisticsbyjim.com/wp-content/uploads/2021/08/Weibull_shape_5.png?w=576&ssl=1)\n",
    "\n",
    "\n",
    "In the study of failure rates, shape values provide critical information about how the failure rate changes over time. When the shape is:\n",
    "\n",
    "- < 1, the failure rate decreases over time\n",
    "- = 1, the failure rate is constant over time.\n",
    "- \\> 1, the failure rate increases over time \n",
    "\n",
    "\n",
    "### Weibull Scale Parameter (η, λ)\n",
    "The scale parameter represents the variability present in the distribution. Changing the scale parameter affects how far the probability distribution stretches out. As you increase the scale, the distribution stretches further right, and the height decreases. Decreasing the scale shrinks the distribution to the left and increases its peak, as shown below. Statisticians denote the scale parameter using either eta (η) or lambda (λ).\n",
    "\n",
    "The below image shows how changing the Weibull scale parameter affects the distribution.\n",
    "\n",
    "![](https://i0.wp.com/statisticsbyjim.com/wp-content/uploads/2021/08/Weibull_scale.png?w=576&ssl=1)\n",
    "\n",
    "\n",
    "\n",
    "\n",
    "\n",
    "[1]: https://www.statisticshowto.com/weibull-distribution/\n",
    "\n",
    "[2]: https://statisticsbyjim.com/probability/weibull-distribution/\n",
    "\n",
    "[3]: https://en.wikipedia.org/wiki/Weibull_distribution"
   ]
  },
  {
   "cell_type": "markdown",
   "metadata": {},
   "source": [
    "## numpy.random.Generator.weibull\n",
    "\n",
    "```random.Generator.weibull(a, size=None)```\n",
    "\n",
    "Draw samples from a 1-parameter Weibull distribution with the given shape parameter ```a```. ```a``` is a float, or an array of floats that determines the shape parameter of the distribution. ```size``` is optional and is an integer, or array of integers. If none is specified then a single value is returned \n",
    "\n",
    "\n",
    "\n",
    "\n",
    "\n"
   ]
  },
  {
   "cell_type": "code",
   "execution_count": 36,
   "metadata": {},
   "outputs": [],
   "source": [
    "rng = np.random.default_rng()\n",
    "a = 5. # shape\n",
    "s = rng.weibull(a, 1000)"
   ]
  },
  {
   "cell_type": "code",
   "execution_count": 37,
   "metadata": {},
   "outputs": [
    {
     "data": {
      "image/png": "[encoded data removed]",
      "text/plain": [
       "<Figure size 432x288 with 1 Axes>"
      ]
     },
     "metadata": {
      "needs_background": "light"
     },
     "output_type": "display_data"
    }
   ],
   "source": [
    "x = np.arange(1,100.)/50.\n",
    "def weib(x,n,a):\n",
    "    return (a / n) * (x / n)**(a - 1) * np.exp(-(x / n)**a)\n",
    "count, bins, ignored = plt.hist(rng.weibull(5.,1000))\n",
    "x = np.arange(1,100.)/50.\n",
    "scale = count.max()/weib(x, 1., 5.).max()\n",
    "plt.plot(x, weib(x, 1., 5.)*scale)\n",
    "plt.show()"
   ]
  },
  {
   "cell_type": "markdown",
   "metadata": {},
   "source": [
    "## Uniform Distribution"
   ]
  },
  {
   "cell_type": "code",
   "execution_count": 38,
   "metadata": {},
   "outputs": [],
   "source": [
    "import seaborn as sns"
   ]
  },
  {
   "cell_type": "markdown",
   "metadata": {},
   "source": [
    "\n",
    "\n",
    "### Intro \n",
    "\n",
    "In statistics, uniform distribution refers to a type of probability distribution in which all outcomes are equally likely to occur, called symmetric probability. All values, or variables, in the distribution have a constant probability.  This distribution is also known as the rectangular distribution, because of its shape, which is very clearly different compared to something like a normal distribution bell curve. Like a normal distribution, however, the area under the graph is equal to 1.\n",
    "\n",
    "A deck of cards has within it uniform distributions because the likelihood of drawing a heart, a club, a diamond, or a spade is equally likely. A coin also has a uniform distribution because the probability of getting either heads or tails in a coin toss is the same.\n",
    "\n",
    "\n",
    "\n",
    "The uniform distribution can be visualized as a straight horizontal line, so for a coin flip returning a head or tail, both have a probability p = 0.50 and would be depicted by a line from the y-axis at 0.50. \n",
    "\n",
    "Both forms of the uniform distribution have two parameters, a and b. These values represent the smallest and largest variables in the distribution. The variables in a uniform distribution are called uniform random variables.\n",
    "\n",
    "\n",
    "This distribution has two types which will be investigated further below: \n",
    "1. The continuous uniform distribution (in the shape of a rectangle).\n",
    "2. the discrete uniform distribution. It still resembles a rectangle but instead of a line, a series of dots represent a known, finite number of outcomes. \n",
    "\n",
    "\n",
    "### Uses\n",
    "\n",
    "Analysts and researchers use the uniform distribution to model the following:\n",
    "\n",
    "- Rolling dice and coin tosses.\n",
    "- The probability of drawing any card from a deck of cards.\n",
    "- Random sampling because that method depends on population members having equal chances.\n",
    "- P-values in hypothesis tests follow the uniform distribution when the null hypothesis is true under certain conditions.\n",
    "- Random number generators use the uniform distribution because no number should be more common than other numbers.\n",
    "- Radioactive decay of particles over time.\n",
    "- Analysts can use the uniform distribution to approximate new processes when there is insufficient data to estimate the actual distribution of outcomes. \n",
    "\n",
    "In other cases, analysts use this distribution because it’s a close approximation and the calculations are simple.\n",
    "\n",
    "\n",
    "\n",
    "Its worth noting that the plotted results from rolling a single dice will be discretely uniform, whereas the plotted results (averages) from rolling two or more dice will be normally distributed. The higher the number of single dice rolls the more accurate the data set when plotting the distribution. For example, a dataset of 10 rolls is less likely to resemble an exactly uniform distribution compared to 100 rolls.\n",
    "\n",
    "\n",
    "### Discrete Uniform Distribution\n",
    "\n",
    "In this distribution type, each discrete value has an equal probability. For example, the chances of obtaining any of the six values on a dice are equal; or the likelihood of picking a particular card from a deck. In a deck of cards, ignoring the jokers, there are 52 cards, which are a set of discrete data (discrete just means individually seperate and distinct). The likelihood of picking 2 of spades is 1/52, or approx 1.9%. Each card in the deck has exactly the same chance of being picked as they are all unique. However, looking at the same dataset, the likelihood of pulling a heart suit is significantly higher- as there are only 4 suits the probability is now just 1/4 or 25%. \n",
    "\n",
    "\n",
    "For discrete uniform distributions, finding the probability for each outcome is 1/n, where n is the number of outcomes. Rolling dice has six outcomes. Therefore, each one has a likelihood of 1/6 = 0.167. The bar chart below displays the rectangular-shaped distribution.\n",
    "\n",
    "Bar chart of discrete uniform distribution.\n",
    "\n",
    "\n",
    "![](https://www.statisticshowto.com/wp-content/uploads/2013/09/Uniform_discrete_pmf_svg.svg_.png)\n",
    "\n",
    "**In a discrete uniform distribution, outcomes are discrete and have the same probability.**\n",
    "\n",
    "\n",
    "### Continuous Uniform Distribution\n",
    "\n",
    "This models symmetric, continuous data where all equal sized ranges have the same probability. For example, values are equally likely to fall in the range of 0.1 – 0.2 as they are in 0.4 – 0.5.\n",
    "\n",
    "For these types of continuous distributions, you obtain probabilities for ranges of values by finding the area under the curve for that range. Usually, that involves complex calculations.\n",
    "However, in continuous uniform distributions,Like these ones the calculations are relatively simple because it involves finding areas of a rectangle instead of a curve.\n",
    "\n",
    "An idealised RNG (random number generator) would be considered a continuous uniform distribution, because every point in range 0.0-1.0 has an equal chance of apprearing, but there is an infinite number of points this range. \n",
    "\n",
    "In the example below, the distribution ranges from 5 to 10, which covers 5 units. The shaded area is one unit out of five or 1 / 5 = 20% of the total area. Hence, the probability for a value falling between 6 and 7 is 0.2. In fact, all one-unit ranges in this distribution have the same likelihood of 0.2. You can use the same method to calculate the probabilities for other sized ranges.\n",
    "\n",
    "\n",
    "![](https://i2.wp.com/statisticsbyjim.com/wp-content/uploads/2021/11/uniform_distribution_continuous.png?w=576&ssl=1)\n",
    "\n",
    "\n",
    "There are several other important continuous distributions, such as the normal distribution, chi-square, and Student's t-distribution.\n",
    "\n",
    "\n",
    "\n",
    "**In a continuous uniform distribution, outcomes are continuous and infinite.**\n",
    "\n",
    "\n",
    "\n",
    "\n",
    "\n",
    "\n",
    "### Formula for Uniform Distribution\n",
    "\n",
    "The formula for a discrete uniform distribution is\n",
    "\n",
    "\\begin{aligned}&P_x = \\frac{ 1 }{ n } \\\\&\\textbf{where:} \\\\&P_x = \\text{Probability of a discrete value} \\\\&n = \\text{Number of values in the range} \\\\\\end{aligned} \n",
    "​\n",
    "  \n",
    "P \n",
    "x\n",
    "​\n",
    " = \n",
    "n\n",
    "1\n",
    "​\n",
    " \n",
    "Where:<br>\n",
    "P \n",
    "x\n",
    "​\n",
    " =Probability of a discrete value; <br>\n",
    "    n=Number of values in the range\n",
    "​\n",
    " \n",
    "\n",
    "\n",
    "\n",
    "\n",
    "[1]: https://www.investopedia.com/terms/u/uniform-distribution.asp\n",
    "[2]: https://www.statisticshowto.com/probability-and-statistics/statistics-definitions/uniform-distribution/\n",
    "[3]: https://statisticsbyjim.com/probability/uniform-distribution/\n"
   ]
  },
  {
   "cell_type": "markdown",
   "metadata": {},
   "source": [
    "### numpy.random.Generator.uniform\n",
    "\n",
    "```random.Generator.uniform(low=0.0, high=1.0, size=None)```\n",
    "\n",
    "Draw samples from a uniform distribution. These samples are uniformly distributed over the half-open interval [low, high\\) (includes low, but excludes high). There are 3 parameters that can be modified.\n",
    "- ```low``` requires a float, or an array of floats. The default on this parameter is 0; and all values generated will be greater or equal to low. \n",
    "- ```high``` is a float or an array of floats also. This is the upper boundary of the output, and all values generated will be less than high. The default value is 1.0.\n",
    "- ```size```  is an integer or a tuple of integers. If size is None, then a single value is returned. <br>```Uniform``` then returns samples from the parameterized uniform distribution.\n",
    "\n",
    "\n",
    "\n"
   ]
  },
  {
   "cell_type": "code",
   "execution_count": 39,
   "metadata": {},
   "outputs": [
    {
     "data": {
      "text/plain": [
       "array([7.3684198 , 5.68623021, 3.18072053, 6.4409432 , 2.70256789])"
      ]
     },
     "execution_count": 39,
     "metadata": {},
     "output_type": "execute_result"
    }
   ],
   "source": [
    "# Using uniform to create an array of size 10,000. \n",
    "uniform = np.random.default_rng().uniform(1,10,10000)\n",
    "# Returning the first 5 values\n",
    "uniform[1:6]"
   ]
  },
  {
   "cell_type": "markdown",
   "metadata": {},
   "source": [
    "Using seaborn to plot the unifom data created above: [1]\n",
    "\n",
    "[1]: https://www.datacamp.com/community/tutorials/probability-distributions-python"
   ]
  },
  {
   "cell_type": "code",
   "execution_count": 40,
   "metadata": {},
   "outputs": [
    {
     "data": {
      "text/plain": [
       "<seaborn.axisgrid.FacetGrid at 0x7d1afdfd43d0>"
      ]
     },
     "execution_count": 40,
     "metadata": {},
     "output_type": "execute_result"
    },
    {
     "data": {
      "image/png": "[encoded data removed]",
      "text/plain": [
       "<Figure size 360x360 with 1 Axes>"
      ]
     },
     "metadata": {
      "needs_background": "light"
     },
     "output_type": "display_data"
    }
   ],
   "source": [
    "# Using seaborn to create a graphic display of the data created with numpy\n",
    "ax = sns.displot(uniform,\n",
    "                  bins=50,\n",
    "                  kde=False,\n",
    "                  color='skyblue',)\n",
    "ax.set(xlabel='Uniform Distribution ', ylabel='Frequency')"
   ]
  },
  {
   "cell_type": "markdown",
   "metadata": {},
   "source": [
    "## Pareto II Distribution \n",
    "***"
   ]
  },
  {
   "cell_type": "markdown",
   "metadata": {},
   "source": [
    "## Intro \n",
    "\n",
    "The Pareto distribution, named after the Italian civil engineer, economist, and sociologist Vilfredo Pareto, is a power-law probability distribution introduced in 1906. Pareto obvserved that 20% of pea pods were responsible for 80% of peas. He related this phenomenon to the nature of wealth distribution in Italy, and he found that 80% of the country’s wealth and land ownership was owned by about 20% of its population. Empirical observation has shown that this 80-20 distribution fits a wide range of cases, including natural phenomena and human activities. For example, the Gutenberg-Richter Law says that the magnitudes of earthquakes in a given region are Pareto distributed.\n",
    "\n",
    "A Pareto distribution is sometimes referred to as a power law distribution. Generically, a distribution is said to be a power law distribution if a relative change in one quantity results in a proportional relative change in the other quantity. This change is independant of the initial size of those quantities- one quantity varies as a power of another. \n",
    "\n",
    "\n",
    "\n",
    " \n",
    "## Uses\n",
    "\n",
    "\n",
    "The Pareto Distribution can be used to model the size or ranks of objects chosen randomly from certain type of populations, for example, the frequency of words in long sequences of text approximately obeys the discrete Pareto I distribution.\n",
    "\n",
    "This distribution is widely used in describing social, scientific, and geophysical phenomena in society.  The theory is now applied in many disciplines such as:\n",
    "\n",
    "- Business Management\n",
    "- Productivity\n",
    "- Populations and human settlement\n",
    "- Quality control \n",
    "- Income distribution \n",
    "\n",
    "amongst many other variables. It is seen used in areas as varied as insurance, web page access statistics and oil field sizes. \n",
    "\n",
    "One thing to note is that while the 80-20 Pareto distribution rule applies to many disciplines, it does not necessarily mean that the input and output must be equal to 100%. For example, 20% of a company’s customers could contribute only 70% of the company’s revenues. The ratio brings a total of 90%. It shows that the Pareto concept is merely an observation to show that the level of inputs and outputs is not always equal.  \n",
    "\n",
    "\n",
    "\n",
    "\n",
    "### Lomax Distribution (Pareto II)\n",
    "\n",
    "There are many variants of the Pareto distribution. Numpy works on the Pareto II, or Lomax distribution, which is a commonly used variation. This is a heavy tailed distribution originally proposed by K.S. Lomax in 1987, who used it in his analysis of business failure lifetime data. It is widely used in survival analysis and has many applications in actuarial science, biological sciences economics, business, queueing theory, internet traffic prediction and even for modelling the distribution of sizes of computer files on servers [8]. The Lomax distribution is essentially a Pareto distribution that has been shifted so that its support begins at zero. \n",
    "\n",
    "There are 2 parameters that define this distribution: scale parameter λ and shape parameter κ (sometimes denoted as α). The shorthand X ∼ Lomax(λ,κ) indicates the random variable X has a Lomax distribution with those two parameters. \n",
    "\n",
    "\n",
    "Even within the Lomax Distribution there are many variants - for example, the beta-exponentiated Lomax is a 5-parameter continuous model.[1]\n",
    "\n",
    "***\n",
    "## Formula\n",
    "\n",
    "The formula for calculating the Pareto Distribution is as follows:\n",
    "\n",
    " \n",
    "\n",
    "F(x) = 1 – (k/x)α\n",
    "\n",
    " \n",
    "\n",
    "Where:\n",
    "\n",
    "x – Random variable\n",
    "k – Lower bound on data\n",
    "α – Shape parameter\n",
    " \n",
    "\n",
    "On a chart, the Pareto distribution is represented by a slowly declining tail, as shown below:\n",
    "\n",
    " \n",
    "![](https://statisticalmodeling.files.wordpress.com/2017/10/pareto-type-i-type-ii-comparison.jpg)\n",
    " \n",
    "\n",
    "\n",
    " \n",
    "\n",
    "\n",
    "[1]: https://www.statisticshowto.com/lomax-distribution/\n",
    "[2]: https://en.wikipedia.org/wiki/Lomax_distribution\n",
    "[3]: https://distribution-explorer.github.io/continuous/pareto.html\n",
    "[4]: https://corporatefinanceinstitute.com/resources/knowledge/economics/pareto-distribution/\n",
    "[5]: https://en.wikipedia.org/wiki/Pareto_distribution\n",
    "[6]: https://springerplus.springeropen.com/articles/10.1186/s40064-016-3464-y\n",
    "[7]: https://www.sciencedirect.com/topics/computer-science/pareto-distribution\n",
    "[8]: https://digital-library.theiet.org/content/journals/10.1049/ip-com_20045155"
   ]
  },
  {
   "cell_type": "markdown",
   "metadata": {},
   "source": [
    "## numpy.random.Generator.pareto\n",
    "\n",
    "```random.Generator.pareto(a, size=None)```\n",
    "\n",
    "Draw samples from a Pareto II or Lomax distribution with specified shape. The Pareto distribution must be greater than zero, and is unbounded above. It is also known as the “80-20 rule”. In this distribution, 80 percent of the weights are in the lowest 20 percent of the range, while the other 20 percent fill the remaining 80 percent of the range.\n",
    "\n",
    "The Lomax or Pareto II distribution is a shifted Pareto distribution. The classical Pareto distribution can be obtained from the Lomax distribution by adding 1 and multiplying by the scale parameter ```m```. The smallest value of the Lomax distribution is zero while for the classical Pareto distribution it is the mean (mu), where the standard Pareto distribution has location mu = 1. There are 2 parameters ```a``` which sets the shape of the distribution and must be a positive floar or array of floats. ```size``` is an integer which determines the shape of the output. If none is given then a single value is returned. ```pareto``` returns an array from the distribution set by the parameters. \n",
    "\n"
   ]
  },
  {
   "cell_type": "code",
   "execution_count": 65,
   "metadata": {},
   "outputs": [
    {
     "data": {
      "text/plain": [
       "array([0.18798159, 0.4676261 , 0.26912158, 0.12902029, 0.05753589])"
      ]
     },
     "execution_count": 65,
     "metadata": {},
     "output_type": "execute_result"
    }
   ],
   "source": [
    "# Pareto II distribution\n",
    "lomax =np.random.default_rng().pareto(3.0,1000)\n",
    "lomax [1:6]"
   ]
  },
  {
   "cell_type": "code",
   "execution_count": 66,
   "metadata": {},
   "outputs": [
    {
     "data": {
      "text/plain": [
       "<function matplotlib.pyplot.show(close=None, block=None)>"
      ]
     },
     "execution_count": 66,
     "metadata": {},
     "output_type": "execute_result"
    },
    {
     "data": {
      "image/png": "[encoded data removed]",
      "text/plain": [
       "<Figure size 432x288 with 1 Axes>"
      ]
     },
     "metadata": {
      "needs_background": "light"
     },
     "output_type": "display_data"
    }
   ],
   "source": [
    "# Plotting distribution- note starting point is 0\n",
    "plt.hist(lomax, 100, density=True)\n",
    "plt.show"
   ]
  },
  {
   "cell_type": "code",
   "execution_count": 70,
   "metadata": {},
   "outputs": [],
   "source": [
    "# Using pareto II and converting to pareto I\n",
    "\n",
    "#a, m = 3., 2.  # shape and mode\n",
    "pareto= (np.random.default_rng().pareto(3.0, 1000) + 1) * 2.0"
   ]
  },
  {
   "cell_type": "code",
   "execution_count": 71,
   "metadata": {},
   "outputs": [
    {
     "data": {
      "image/png": "[encoded data removed]",
      "text/plain": [
       "<Figure size 432x288 with 1 Axes>"
      ]
     },
     "metadata": {
      "needs_background": "light"
     },
     "output_type": "display_data"
    }
   ],
   "source": [
    "count, bins, _ = plt.hist(pareto, 100, density=True)\n",
    "fit = a*m**a / bins**(a+1)\n",
    "plt.plot(bins, max(count)*fit/max(fit), linewidth=2, color='r')\n",
    "plt.show()"
   ]
  },
  {
   "cell_type": "markdown",
   "metadata": {},
   "source": [
    "## Student's t-test \n",
    "***\n",
    "## Intro \n",
    "Student's t-distribution was developed by an English statistician called William Sealy Gosset in 1908 under the pseudonym \"Student\". He worked for Guinness in Dublin and was interested in the problems relating to small sample sizes. \n",
    "The t-distribution is a family of continuous probability distributions that arise when estimating the mean of a normally-distributed population in situations where the sample size is small and the population's standard deviation is unknown. The distributions look almost identical to normal distribution, only a bit shorter and fatter. The larger the sample size, the closer the distribution resembles a bell curve. \n",
    "\n",
    "The t test is based on an assumption that the data comes from a Normal distribution. The t test provides a way to test whether the sample mean (that is the mean calculated from the data) is a good estimate of the true mean.\n",
    "\n",
    "T-distributions can be used to analyze one or two sample means. Depending on the t-test used, a sample mean can be compared to a hypothesized value, the means of two independent samples, or the difference between paired samples. \n",
    "\n",
    "The paper written by Gosset refers to the distribution as the \"frequency distribution of standard deviations of samples drawn from a normal population\". It became well known through the work of Ronald Fisher, who also created the Fisher's Iris dataset. It was he who called the distribution \"Student's distribution\" and represented the test value with the letter t.\n",
    "\n",
    "\n",
    "The t-distribution plays a role in a number of widely used statistical analyses, including Student's t-test for assessing the statistical significance of the difference between two sample means, the construction of confidence intervals for the difference between two population means, and in linear regression analysis. Student's t-distribution also arises in the Bayesian analysis of data from a normal family.\n",
    "\n",
    "\n",
    "\n",
    "\n",
    "***\n",
    "\n",
    "### T-values\n",
    "\n",
    "The term “t-test” refers to the fact that these hypothesis tests use t-values to evaluate sample data. T-values are a type of test statistic. Hypothesis tests use the test statistic that is calculated from a sample to compare that sample to the null hypothesis. If the test statistic is extreme enough, this indicates that the data is so incompatible with the null hypothesis that the null can be rejected.\n",
    "\n",
    "T-distributions assume that the null hypothesis is correct for the population from which the random samples are drawn from. To evaluate how compatible a sample of data is with the null hypothesis, a study’s t-value is placed in the t-distribution and that is determined how unusual it is.\n",
    "\n",
    "\n",
    "When data is analysed with any t-test, the procedure reduces the entire sample to a single value, the t-value. These calculations factor in sample size and data variation. Then, the t-test compares the sample means(s) to the null hypothesis condition in the following manner:\n",
    "\n",
    "- If the sample data equals the null hypothesis precisely, the t-test produces a t-value of 0.\n",
    "- As the sample data become progressively dissimilar from the null hypothesis, the absolute value of the t-value increases.\n",
    "\n",
    "\n",
    "A single t-test produces a single t-value. To get a t-distribution, t-values are created by drawing many random samples of the same size from the sample population, and t-tests are then performed on all of the samples and the distribution of these t-values is plotted. This distribution is known as a sampling distribution, which is a type of probability distribution.\n",
    "\n",
    "A graph is produced using this data that displays the distribution of t-values that are obtained from a population where the null hypothesis is true. Sampling distributions are used to calculate probabilities for how unusual the sample statistic is if the null hypothesis is true.\n",
    "\n",
    "![](https://i1.wp.com/statisticsbyjim.com/wp-content/uploads/2017/04/tdististribution.png?w=576&ssl=1)\n",
    "\n",
    "\n",
    "Statisticians understand the properties of t-distributions so the sampling distribution can be estimated using the t-distribution and sample size.\n",
    "\n",
    "The degrees of freedom (DF) define the t-distribution for a particular study. As previously mentioned, the DF are closely related to the sample size. For t-tests, there is a different t-distribution for each sample size.\n",
    "\n",
    "\n",
    " When the null is true, a study is most likely to obtain a t-value near zero and less liable to produce t-values further from zero in either direction.\n",
    "\n",
    "\n",
    "The sample size for a t-test determines the degrees of freedom (DF) for that test, which specifies the t-distribution. The overall effect is that as the sample size decreases, the tails of the t-distribution become thicker. Thicker tails indicate that t-values are more likely to be far from zero even when the null hypothesis is correct. The changing shapes are how t-distributions factor in the greater uncertainty when you have a smaller sample.\n",
    "\n",
    "![](https://i1.wp.com/statisticsbyjim.com/wp-content/uploads/2017/04/t_dist_comp_df.png?w=576&ssl=1)\n",
    "\n",
    "\n",
    "\n",
    "\n",
    " \n",
    "\n",
    " \n",
    "## Uses \n",
    "\n",
    "The T Distribution (and the associated t scores), are used in hypothesis testing when you want to figure out if you should accept or reject the null hypothesis\n",
    "\n",
    "In general, this distribution is used when there is a small sample size (under 30) or the population's standard deviation is unknown. In real world, practical uses, this is nearly always the case so the t-distibution is often used more than a normal distribution. If the size of the sample is large enough, the two distributions are practically the same.\n",
    "\n",
    "It can also be used in a variety of statistical estimation problems where the goal is to estimate an unknown parameter, such as a mean value, in a setting where the data has known errors. If the population standard deviation of these errors is unknown and has to be estimated from the data, the t-distribution is often used to account for the extra uncertainty that results from this estimation. \n",
    "\n",
    "In addition, the Student's t-distribution arises frequently in Bayesian statistics as a result of its connection with the normal distribution. \n",
    "\n",
    "\n",
    "\n",
    "\n",
    "\n",
    "\n",
    "***\n",
    "\n",
    "[1]: https://en.wikipedia.org/wiki/Student%27s_t-distribution\n",
    "[2]: https://statisticsbyjim.com/hypothesis-testing/t-tests-t-values-t-distributions-probabilities/\n",
    "[3]: https://www.investopedia.com/terms/t/tdistribution.asp\n",
    "[4]: https://www.statisticshowto.com/probability-and-statistics/t-distribution/\n",
    "[5]: https://www.statsdirect.co.uk/help/distributions/t.htm"
   ]
  },
  {
   "cell_type": "markdown",
   "metadata": {},
   "source": [
    "## numpy.random.Generator.standard_t\n",
    "\n",
    "\n",
    "```random.Generator.standard_t(df, size=None)```\n",
    "\n",
    "Draw samples from a standard Student’s t distribution with parameterized degrees of freedom. \n",
    "```df``` sets degrees of freedom, this is a float, or an array of floats and must be greater than 0 \n",
    "```size``` sets the output shape. If this is not set then the default of a single value is returned. \n",
    "\n",
    "\n"
   ]
  },
  {
   "cell_type": "code",
   "execution_count": 62,
   "metadata": {},
   "outputs": [
    {
     "data": {
      "text/plain": [
       "array([ 0.75937695, -1.56757453,  0.0326033 ,  0.4167218 ,  0.72705107])"
      ]
     },
     "execution_count": 62,
     "metadata": {},
     "output_type": "execute_result"
    }
   ],
   "source": [
    "# Creating a sample and showing the first 5 numbers\n",
    "sample = np.random.default_rng().standard_t(100, size=100000)\n",
    "sample [1:6]"
   ]
  },
  {
   "cell_type": "code",
   "execution_count": 63,
   "metadata": {},
   "outputs": [
    {
     "data": {
      "image/png": "[encoded data removed]",
      "text/plain": [
       "<Figure size 432x288 with 1 Axes>"
      ]
     },
     "metadata": {
      "needs_background": "light"
     },
     "output_type": "display_data"
    }
   ],
   "source": [
    "# Plotting the sample above\n",
    "plot = plt.hist(sample, bins=50, density=True)"
   ]
  },
  {
   "cell_type": "markdown",
   "metadata": {},
   "source": [
    "\n",
    "## RANDOM NUMBER GENERATORS\n",
    "\n",
    "\n",
    "4. Explain the use of seeds in generating pseudorandom numbers.\"\n",
    "***\n",
    "Used to use the Mersenne-twister (MT19937)\n",
    "\n",
    "\n",
    "Introduction\n",
    "The new infrastructure takes a different approach to producing random numbers from the RandomState object. Random number generation is separated into two components, a bit generator and a random generator.\n",
    "\n",
    "The BitGenerator has a limited set of responsibilities. It manages state and provides functions to produce random doubles and random unsigned 32- and 64-bit values.\n",
    "\n",
    "The random generator takes the bit generator-provided stream and transforms them into more useful distributions, e.g., simulated normal random values. This structure allows alternative bit generators to be used with little code duplication.\n",
    "\n",
    "The Generator is the user-facing object that is nearly identical to the legacy RandomState. It accepts a bit generator instance as an argument. The default is currently PCG64 but this may change in future versions. As a convenience NumPy provides the default_rng function to hide these details:\n",
    "\n",
    "from numpy.random import default_rng\n",
    "rng = default_rng(12345)\n",
    "print(rng)\n",
    "Generator(PCG64)\n",
    "print(rng.random())\n",
    "0.22733602246716966\n",
    "One can also instantiate Generator directly with a BitGenerator instance.\n",
    "\n",
    "To use the default PCG64 bit generator, one can instantiate it directly and pass it to Generator:\n",
    "\n",
    "from numpy.random import Generator, PCG64\n",
    "rng = Generator(PCG64(12345))\n",
    "print(rng)\n",
    "Generator(PCG64)\n",
    "Similarly to use the older MT19937 bit generator (not recommended), one can instantiate it directly and pass it to Generator:\n",
    "\n",
    "from numpy.random import Generator, MT19937\n",
    "rng = Generator(MT19937(12345))\n",
    "print(rng)\n",
    "Generator(MT19937)\n",
    "What’s New or Different\n",
    "Warning\n",
    "\n",
    "The Box-Muller method used to produce NumPy’s normals is no longer available in Generator. It is not possible to reproduce the exact random values using Generator for the normal distribution or any other distribution that relies on the normal such as the RandomState.gamma or RandomState.standard_t. If you require bitwise backward compatible streams, use RandomState.\n",
    "\n",
    "The Generator’s normal, exponential and gamma functions use 256-step Ziggurat methods which are 2-10 times faster than NumPy’s Box-Muller or inverse CDF implementations.\n",
    "\n",
    "Optional dtype argument that accepts np.float32 or np.float64 to produce either single or double prevision uniform random variables for select distributions\n",
    "\n",
    "Optional out argument that allows existing arrays to be filled for select distributions\n",
    "\n",
    "All BitGenerators can produce doubles, uint64s and uint32s via CTypes (PCG64.ctypes) and CFFI (PCG64.cffi). This allows the bit generators to be used in numba.\n",
    "\n",
    "The bit generators can be used in downstream projects via Cython.\n",
    "\n",
    "Generator.integers is now the canonical way to generate integer random numbers from a discrete uniform distribution. The rand and randn methods are only available through the legacy RandomState. The endpoint keyword can be used to specify open or closed intervals. This replaces both randint and the deprecated random_integers.\n",
    "\n",
    "Generator.random is now the canonical way to generate floating-point random numbers, which replaces RandomState.random_sample, RandomState.sample, and RandomState.ranf. This is consistent with Python’s random.random.\n",
    "\n",
    "All BitGenerators in numpy use SeedSequence to convert seeds into initialized states.\n",
    "\n",
    "The addition of an axis keyword argument to methods such as Generator.choice, Generator.permutation, and Generator.shuffle improves support for sampling from and shuffling multi-dimensional arrays.\n",
    "\n",
    "Random Generator\n",
    "The Generator provides access to a wide range of distributions, and served as a replacement for RandomState. The main difference between the two is that Generator relies on an additional BitGenerator to manage state and generate the random bits, which are then transformed into random values from useful distributions. The default BitGenerator used by Generator is PCG64. The BitGenerator can be changed by passing an instantized BitGenerator to Generator.\n",
    "\n",
    "numpy.random.default_rng()\n",
    "Construct a new Generator with the default BitGenerator (PCG64).\n",
    "\n",
    "Parameters\n",
    "seed{None, int, array_like[ints], SeedSequence, BitGenerator, Generator}, optional\n",
    "A seed to initialize the BitGenerator. If None, then fresh, unpredictable entropy will be pulled from the OS. If an int or array_like[ints] is passed, then it will be passed to SeedSequence to derive the initial BitGenerator state. One may also pass in a SeedSequence instance. Additionally, when passed a BitGenerator, it will be wrapped by Generator. If passed a Generator, it will be returned unaltered.\n",
    "\n",
    "Returns\n",
    "Generator\n",
    "The initialized generator object.\n",
    "\n",
    "Notes\n",
    "\n",
    "If seed is not a BitGenerator or a Generator, a new BitGenerator is instantiated. This function does not manage a default global instance.\n",
    "\n",
    "Examples\n",
    "\n",
    "default_rng is the recommended constructor for the random number class Generator. Here are several ways we can construct a random number generator using default_rng and the Generator class.\n",
    "\n",
    "Here we use default_rng to generate a random float:\n",
    "\n",
    "import numpy as np\n",
    "rng = np.random.default_rng(12345)\n",
    "print(rng)\n",
    "Generator(PCG64)\n",
    "rfloat = rng.random()\n",
    "rfloat\n",
    "0.22733602246716966\n",
    "type(rfloat)\n",
    "<class 'float'>\n",
    "Here we use default_rng to generate 3 random integers between 0 (inclusive) and 10 (exclusive):\n",
    "\n",
    "import numpy as np\n",
    "rng = np.random.default_rng(12345)\n",
    "rints = rng.integers(low=0, high=10, size=3)\n",
    "rints\n",
    "array([6, 2, 7])\n",
    "type(rints[0])\n",
    "<class 'numpy.int64'>\n",
    "Here we specify a seed so that we have reproducible results:\n",
    "\n",
    "import numpy as np\n",
    "rng = np.random.default_rng(seed=42)\n",
    "print(rng)\n",
    "Generator(PCG64)\n",
    "arr1 = rng.random((3, 3))\n",
    "arr1\n",
    "array([[0.77395605, 0.43887844, 0.85859792],\n",
    "       [0.69736803, 0.09417735, 0.97562235],\n",
    "       [0.7611397 , 0.78606431, 0.12811363]])\n",
    "If we exit and restart our Python interpreter, we’ll see that we generate the same random numbers again:\n",
    "\n",
    "import numpy as np\n",
    "rng = np.random.default_rng(seed=42)\n",
    "arr2 = rng.random((3, 3))\n",
    "arr2\n",
    "array([[0.77395605, 0.43887844, 0.85859792],\n",
    "       [0.69736803, 0.09417735, 0.97562235],\n",
    "       [0.7611397 , 0.78606431, 0.12811363]])\n",
    "class numpy.random.Generator(bit_generator)\n",
    "Container for the BitGenerators.\n",
    "\n",
    "Generator exposes a number of methods for generating random numbers drawn from a variety of probability distributions. In addition to the distribution-specific arguments, each method takes a keyword argument size that defaults to None. If size is None, then a single value is generated and returned. If size is an integer, then a 1-D array filled with generated values is returned. If size is a tuple, then an array with that shape is filled and returned.\n",
    "\n",
    "The function numpy.random.default_rng will instantiate a Generator with numpy’s default BitGenerator.\n",
    "\n",
    "No Compatibility Guarantee\n",
    "\n",
    "Generator does not provide a version compatibility guarantee. In particular, as better algorithms evolve the bit stream may change.\n",
    "\n",
    "Parameters\n",
    "bit_generatorBitGenerator\n",
    "BitGenerator to use as the core generator.\n",
    "\n",
    "See also\n",
    "\n",
    "default_rng\n",
    "Recommended constructor for Generator.\n",
    "\n",
    "Notes\n",
    "\n",
    "The Python stdlib module random contains pseudo-random number generator with a number of methods that are similar to the ones available in Generator. It uses Mersenne Twister, and this bit generator can be accessed using MT19937. Generator, besides being NumPy-aware, has the advantage that it provides a much larger number of probability distributions to choose from.\n",
    "\n",
    "Examples\n",
    "\n",
    "from numpy.random import Generator, PCG64\n",
    "rng = Generator(PCG64())\n",
    "rng.standard_normal()\n",
    "-0.203  # random\n",
    "Accessing the BitGenerator\n",
    "bit_generator\n",
    "\n",
    "\n",
    "\n",
    "\n",
    "\n",
    "\n",
    "\n",
    "\n",
    "\n",
    "Numpy’s random number routines produce pseudo random numbers using combinations of a BitGenerator to create sequences and a Generator to use those sequences to sample from different statistical distributions:\n",
    "\n",
    "BitGenerators: Objects that generate random numbers. These are typically unsigned integer words filled with sequences of either 32 or 64 random bits.\n",
    "\n",
    "Generators: Objects that transform sequences of random bits from a BitGenerator into sequences of numbers that follow a specific probability distribution (such as uniform, Normal or Binomial) within a specified interval.\n",
    "\n",
    "Since Numpy version 1.17.0 the Generator can be initialized with a number of different BitGenerators. It exposes many different probability distributions. See NEP 19 for context on the updated random Numpy number routines. The legacy RandomState random number routines are still available, but limited to a single BitGenerator. See What’s New or Different for a complete list of improvements and differences from the legacy RandomState.\n",
    "\n",
    "For convenience and backward compatibility, a single RandomState instance’s methods are imported into the numpy.random namespace, see Legacy Random Generation for the complete list.\n",
    "\n",
    "\n",
    "\n",
    "## New one\n",
    "Permuted Congruential Generator (64-bit, PCG64)\n",
    "class numpy.random.PCG64(seed=None)\n",
    "BitGenerator for the PCG-64 pseudo-random number generator.\n",
    "\n",
    "Parameters\n",
    "seed{None, int, array_like[ints], SeedSequence}, optional\n",
    "A seed to initialize the BitGenerator. If None, then fresh, unpredictable entropy will be pulled from the OS. If an int or array_like[ints] is passed, then it will be passed to SeedSequence to derive the initial BitGenerator state. One may also pass in a SeedSequence instance.\n",
    "\n",
    "Notes\n",
    "\n",
    "PCG-64 is a 128-bit implementation of O’Neill’s permutation congruential generator ([1], [2]). PCG-64 has a period of  and supports advancing an arbitrary number of steps as well as  streams. The specific member of the PCG family that we use is PCG XSL RR 128/64 as described in the paper ([2]).\n",
    "\n",
    "PCG64 provides a capsule containing function pointers that produce doubles, and unsigned 32 and 64- bit integers. These are not directly consumable in Python and must be consumed by a Generator or similar object that supports low-level access.\n",
    "\n",
    "Supports the method advance to advance the RNG an arbitrary number of steps. The state of the PCG-64 RNG is represented by 2 128-bit unsigned integers.\n",
    "\n",
    "State and Seeding\n",
    "\n",
    "The PCG64 state vector consists of 2 unsigned 128-bit values, which are represented externally as Python ints. One is the state of the PRNG, which is advanced by a linear congruential generator (LCG). The second is a fixed odd increment used in the LCG.\n",
    "\n",
    "The input seed is processed by SeedSequence to generate both values. The increment is not independently settable.\n",
    "\n",
    "Parallel Features\n",
    "\n",
    "The preferred way to use a BitGenerator in parallel applications is to use the SeedSequence.spawn method to obtain entropy values, and to use these to generate new BitGenerators:\n",
    "\n",
    "from numpy.random import Generator, PCG64, SeedSequence\n",
    "sg = SeedSequence(1234)\n",
    "rg = [Generator(PCG64(s)) for s in sg.spawn(10)]\n",
    "Compatibility Guarantee\n",
    "\n",
    "PCG64 makes a guarantee that a fixed seed and will always produce the same random integer stream.\n",
    "\n",
    "References\n",
    "\n",
    "1\n",
    "“PCG, A Family of Better Random Number Generators”\n",
    "\n",
    "2(1,2)\n",
    "O’Neill, Melissa E. “PCG: A Family of Simple Fast Space-Efficient Statistically Good Algorithms for Random Number Generation”\n",
    "\n",
    "State\n",
    "state\n",
    "\n",
    "Get or set the PRNG state\n",
    "\n",
    "Parallel generation\n",
    "advance(delta)\n",
    "\n",
    "Advance the underlying RNG as-if delta draws have occurred.\n",
    "\n",
    "jumped([jumps])\n",
    "\n",
    "Returns a new bit generator with the state jumped.\n",
    "\n",
    "Extending\n",
    "cffi\n",
    "\n",
    "CFFI interface\n",
    "\n",
    "ctypes\n",
    "\n",
    "ctypes interface\n",
    "\n",
    "\n",
    "[1]: https://numpy.org/doc/stable/reference/random/generator.html#numpy.random.Generator\n",
    "[2]: https://numpy.org/doc/stable/reference/random/bit_generators/pcg64.html#numpy.random.PCG64\n",
    "[3]:https://stats.stackexchange.com/questions/354373/what-exactly-is-a-seed-in-a-random-number-generator\n",
    "[4]: https://en.wikipedia.org/wiki/Random_seed\n",
    "[5]: https://www.statisticshowto.com/random-seed-definition/"
   ]
  },
  {
   "cell_type": "markdown",
   "metadata": {},
   "source": [
    "numpy.random.get_state\n",
    "random.get_state()\n",
    "Return a tuple representing the internal state of the generator.\n",
    "\n",
    "For more details, see set_state.\n",
    "\n",
    "Parameters\n",
    "legacybool, optional\n",
    "Flag indicating to return a legacy tuple state when the BitGenerator is MT19937, instead of a dict.\n",
    "\n",
    "Returns\n",
    "out{tuple(str, ndarray of 624 uints, int, int, float), dict}\n",
    "The returned tuple has the following items:\n",
    "\n",
    "the string ‘MT19937’.\n",
    "\n",
    "a 1-D array of 624 unsigned integer keys.\n",
    "\n",
    "an integer pos.\n",
    "\n",
    "an integer has_gauss.\n",
    "\n",
    "a float cached_gaussian.\n",
    "\n",
    "If legacy is False, or the BitGenerator is not MT19937, then state is returned as a dictionary.\n",
    "\n",
    "See also\n",
    "\n",
    "set_state\n",
    "Notes\n",
    "\n",
    "set_state and get_state are not needed to work with any of the random distributions in NumPy. If the internal state is manually altered, the user should know exactly what he/she is doing."
   ]
  },
  {
   "cell_type": "markdown",
   "metadata": {},
   "source": [
    "numpy.random.set_state\n",
    "random.set_state(state)\n",
    "Set the internal state of the generator from a tuple.\n",
    "\n",
    "For use if one has reason to manually (re-)set the internal state of the bit generator used by the RandomState instance. By default, RandomState uses the “Mersenne Twister”[1] pseudo-random number generating algorithm.\n",
    "\n",
    "Parameters\n",
    "state{tuple(str, ndarray of 624 uints, int, int, float), dict}\n",
    "The state tuple has the following items:\n",
    "\n",
    "the string ‘MT19937’, specifying the Mersenne Twister algorithm.\n",
    "\n",
    "a 1-D array of 624 unsigned integers keys.\n",
    "\n",
    "an integer pos.\n",
    "\n",
    "an integer has_gauss.\n",
    "\n",
    "a float cached_gaussian.\n",
    "\n",
    "If state is a dictionary, it is directly set using the BitGenerators state property.\n",
    "\n",
    "Returns\n",
    "outNone\n",
    "Returns ‘None’ on success.\n",
    "\n",
    "See also\n",
    "\n",
    "get_state\n",
    "Notes\n",
    "\n",
    "set_state and get_state are not needed to work with any of the random distributions in NumPy. If the internal state is manually altered, the user should know exactly what he/she is doing.\n",
    "\n",
    "For backwards compatibility, the form (str, array of 624 uints, int) is also accepted although it is missing some information about the cached Gaussian value: state = ('MT19937', keys, pos).\n",
    "\n"
   ]
  },
  {
   "cell_type": "markdown",
   "metadata": {},
   "source": [
    "# END\n",
    "***"
   ]
  },
  {
   "cell_type": "markdown",
   "metadata": {},
   "source": [
    "## References \n",
    "\n",
    "[1]: https://numpy.org/doc/stable/user/absolute_beginners.html#generating-random-numbers\n",
    "\n",
    "[2]: https://stackoverflow.com/questions/7029993/differences-between-numpy-random-and-random-random-in-python\n",
    "\n",
    "[3]: wes mckinney's book pg 120\n",
    "\n",
    "[4]: https://www.sharpsightlabs.com/blog/numpy-random-choice/\n",
    "\n",
    "[5]: https://www.analyticsvidhya.com/blog/2016/06/bayesian-statistics-beginners-simple-english/\n",
    "\n",
    "[6]: https://numpy.org/doc/stable/reference/random/generated/numpy.random.shuffle.html\n",
    "\n",
    "[7]: https://github.com/numpy/numpy/milestone/87\n",
    "\n",
    "[8]: https://numpy.org/doc/stable/reference/random/generated/numpy.random.Generator.permutation.html#numpy.random.Generator.permutation\n",
    "\n",
    "[9]: https://numpy.org/doc/stable/reference/random/generated/numpy.random.Generator.shuffle.html#numpy.random.Generator.shuffle\n",
    "\n",
    "[10]: https://en.wikipedia.org/wiki/Interval_(mathematics)\n",
    "\n",
    "[11]: https://www.mathsisfun.com/data/standard-normal-distribution.html\n",
    "\n",
    "[12]: https://stackoverflow.com/questions/43440821/the-real-difference-between-float32-and-float64#:~:text=float32%20is%20a%2032%20bit,larger%20numbers%20to%20be%20stored.\n",
    "\n",
    "https://www.qualtrics.com/uk/experience-management/research/simple-random-sampling/\n",
    "\n",
    "\n",
    "\n",
    "\n"
   ]
  },
  {
   "cell_type": "code",
   "execution_count": null,
   "metadata": {},
   "outputs": [],
   "source": []
  },
  {
   "cell_type": "code",
   "execution_count": null,
   "metadata": {},
   "outputs": [],
   "source": []
  },
  {
   "cell_type": "code",
   "execution_count": null,
   "metadata": {},
   "outputs": [],
   "source": []
  }
 ],
 "metadata": {
  "kernelspec": {
   "display_name": "Python 3",
   "language": "python",
   "name": "python3"
  },
  "language_info": {
   "codemirror_mode": {
    "name": "ipython",
    "version": 3
   },
   "file_extension": ".py",
   "mimetype": "text/x-python",
   "name": "python",
   "nbconvert_exporter": "python",
   "pygments_lexer": "ipython3",
   "version": "3.8.5"
  }
 },
 "nbformat": 4,
 "nbformat_minor": 4
}
